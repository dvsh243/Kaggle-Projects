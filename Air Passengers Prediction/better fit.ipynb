{
 "cells": [
  {
   "cell_type": "code",
   "execution_count": 1,
   "metadata": {},
   "outputs": [
    {
     "name": "stdout",
     "output_type": "stream",
     "text": [
      "(144, 2)\n",
      "     Month  #Passengers\n",
      "0  1949-01          112\n",
      "1  1949-02          118\n",
      "2  1949-03          132\n",
      "3  1949-04          129\n",
      "4  1949-05          121\n"
     ]
    }
   ],
   "source": [
    "import pandas as pd\n",
    "\n",
    "df = pd.read_csv('AirPassengers.csv')\n",
    "print(df.shape)\n",
    "print(df.head())"
   ]
  },
  {
   "cell_type": "code",
   "execution_count": 47,
   "metadata": {},
   "outputs": [
    {
     "name": "stdout",
     "output_type": "stream",
     "text": [
      "[[0, 1], [0, 2], [0, 3], [0, 4], [0, 5], [0, 6], [0, 7], [0, 8], [0, 9], [0, 10], [0, 11], [0, 12], [1, 1], [1, 2], [1, 3], [1, 4], [1, 5], [1, 6], [1, 7], [1, 8]]\n"
     ]
    }
   ],
   "source": [
    "raw_month = list(df['Month'])\n",
    "passengers = list(df['#Passengers'])\n",
    "\n",
    "train_x = []\n",
    "# for i in range(len(raw_month)):\n",
    "for i in range(100):\n",
    "    year = int( raw_month[i].split('-')[0] ) - 1949\n",
    "    month = int( raw_month[i].split('-')[1] )\n",
    "    year_month = year + month\n",
    "    # print(f\"entry {i+1} --> {year}, {month}    --> {passengers[i]}\")\n",
    "    train_x.append( [year, month] )\n",
    "\n",
    "print(train_x[:20])"
   ]
  },
  {
   "cell_type": "code",
   "execution_count": 54,
   "metadata": {},
   "outputs": [
    {
     "name": "stdout",
     "output_type": "stream",
     "text": [
      "[[112]\n",
      " [118]\n",
      " [132]\n",
      " [129]\n",
      " [121]\n",
      " [135]\n",
      " [148]\n",
      " [148]\n",
      " [136]\n",
      " [119]]\n"
     ]
    },
    {
     "data": {
      "text/plain": [
       "100"
      ]
     },
     "execution_count": 54,
     "metadata": {},
     "output_type": "execute_result"
    }
   ],
   "source": [
    "import numpy as np\n",
    "\n",
    "train_y = []\n",
    "for psg in passengers:\n",
    "    train_y.append( [psg] )\n",
    "\n",
    "train_x = np.array(train_x)\n",
    "train_y = np.array(train_y)\n",
    "\n",
    "print(train_y[:10])"
   ]
  },
  {
   "cell_type": "code",
   "execution_count": 49,
   "metadata": {},
   "outputs": [
    {
     "name": "stdout",
     "output_type": "stream",
     "text": [
      "[0 1] --> [112]\n",
      "[0 2] --> [118]\n",
      "[0 3] --> [132]\n",
      "[0 4] --> [129]\n",
      "[0 5] --> [121]\n",
      "[0 6] --> [135]\n",
      "[0 7] --> [148]\n",
      "[0 8] --> [148]\n",
      "[0 9] --> [136]\n",
      "[ 0 10] --> [119]\n"
     ]
    }
   ],
   "source": [
    "for i in range(10):\n",
    "    print(f\"{train_x[i]} --> {train_y[i]}\")"
   ]
  },
  {
   "cell_type": "code",
   "execution_count": 50,
   "metadata": {},
   "outputs": [],
   "source": [
    "from tensorflow.keras.models import Sequential\n",
    "from tensorflow.keras import layers\n",
    "\n",
    "model = Sequential([\n",
    "    layers.Dense(64, input_shape=[2], activation='relu'),\n",
    "    layers.BatchNormalization(),\n",
    "    layers.Dense(32, activation='relu'),\n",
    "    layers.Dense(32, activation='relu'),\n",
    "    layers.Dense(32, activation='relu'),\n",
    "    layers.Dense(32, activation='relu'),\n",
    "    layers.Dense(32, activation='relu'),\n",
    "    layers.Dense(32, activation='relu'),\n",
    "    layers.Dense(1)\n",
    "])\n",
    "\n",
    "model.compile(\n",
    "    loss='mae',\n",
    "    optimizer='adam',\n",
    ")"
   ]
  },
  {
   "cell_type": "code",
   "execution_count": 55,
   "metadata": {},
   "outputs": [
    {
     "name": "stdout",
     "output_type": "stream",
     "text": [
      "4/4 [==============================] - 0s 2ms/step - loss: 13.1774\n"
     ]
    },
    {
     "data": {
      "text/plain": [
       "13.177423477172852"
      ]
     },
     "execution_count": 55,
     "metadata": {},
     "output_type": "execute_result"
    }
   ],
   "source": [
    "history = model.fit(\n",
    "    train_x, train_y[:100],\n",
    "    epochs=150,\n",
    "    verbose=0\n",
    ")\n",
    "\n",
    "model.evaluate(train_x, train_y[:100])"
   ]
  },
  {
   "cell_type": "code",
   "execution_count": 56,
   "metadata": {},
   "outputs": [
    {
     "data": {
      "image/png": "[encoded data removed]",
      "text/plain": [
       "<Figure size 432x288 with 1 Axes>"
      ]
     },
     "metadata": {
      "needs_background": "light"
     },
     "output_type": "display_data"
    }
   ],
   "source": [
    "import matplotlib.pyplot as plt\n",
    "\n",
    "plt.plot(history.history['loss'])\n",
    "plt.show()"
   ]
  },
  {
   "cell_type": "code",
   "execution_count": 58,
   "metadata": {},
   "outputs": [],
   "source": [
    "test_x = []\n",
    "for i in range(len(raw_month)):\n",
    "    year = int( raw_month[i].split('-')[0] ) - 1949\n",
    "    month = int( raw_month[i].split('-')[1] )\n",
    "    year_month = year + month\n",
    "    # print(f\"entry {i+1} --> {year}, {month}    --> {passengers[i]}\")\n",
    "    test_x.append( [year, month] )"
   ]
  },
  {
   "cell_type": "code",
   "execution_count": 59,
   "metadata": {},
   "outputs": [
    {
     "data": {
      "image/png": "[encoded data removed]",
      "text/plain": [
       "<Figure size 432x288 with 1 Axes>"
      ]
     },
     "metadata": {
      "needs_background": "light"
     },
     "output_type": "display_data"
    },
    {
     "name": "stdout",
     "output_type": "stream",
     "text": [
      "loss: 25.129191451602512\n"
     ]
    }
   ],
   "source": [
    "pred = model.predict( test_x )\n",
    "\n",
    "plt.plot(pred)\n",
    "plt.plot(train_y)\n",
    "plt.show()\n",
    "\n",
    "diff = []\n",
    "for i in range(len(pred)):\n",
    "    diff.append( abs(train_y[i][0] - pred[i][0]) )\n",
    "    # print(f\"diff: {str(train_y[i][0] - pred[i][0])[:4]}\", end = ' ->  ')\n",
    "    # print(f\"{train_y[i]} --> {pred[i]}\")\n",
    "\n",
    "print( f\"loss: {sum(diff)/len(diff)}\" )"
   ]
  }
 ],
 "metadata": {
  "interpreter": {
   "hash": "cf6ab032c8d0f1ddf2ea4dd4e609e6e6dfd5e53c8a42a3a69958aaabf5715049"
  },
  "kernelspec": {
   "display_name": "Python 3.9.7 64-bit",
   "language": "python",
   "name": "python3"
  },
  "language_info": {
   "codemirror_mode": {
    "name": "ipython",
    "version": 3
   },
   "file_extension": ".py",
   "mimetype": "text/x-python",
   "name": "python",
   "nbconvert_exporter": "python",
   "pygments_lexer": "ipython3",
   "version": "3.9.7"
  },
  "orig_nbformat": 4
 },
 "nbformat": 4,
 "nbformat_minor": 2
}
