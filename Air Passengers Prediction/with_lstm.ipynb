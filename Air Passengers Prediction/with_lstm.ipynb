{
 "cells": [
  {
   "cell_type": "code",
   "execution_count": 2,
   "metadata": {},
   "outputs": [
    {
     "name": "stdout",
     "output_type": "stream",
     "text": [
      "(144, 2)\n",
      "     Month  #Passengers\n",
      "0  1949-01          112\n",
      "1  1949-02          118\n",
      "2  1949-03          132\n",
      "3  1949-04          129\n",
      "4  1949-05          121\n"
     ]
    }
   ],
   "source": [
    "import pandas as pd\n",
    "\n",
    "df = pd.read_csv('AirPassengers.csv')\n",
    "print(df.shape)\n",
    "print(df.head())"
   ]
  },
  {
   "cell_type": "code",
   "execution_count": 8,
   "metadata": {},
   "outputs": [
    {
     "name": "stdout",
     "output_type": "stream",
     "text": [
      "1949, 1 --> 112 passengers\n",
      "1949, 2 --> 118 passengers\n",
      "1949, 3 --> 132 passengers\n",
      "1949, 4 --> 129 passengers\n",
      "1949, 5 --> 121 passengers\n",
      "1949, 6 --> 135 passengers\n",
      "1949, 7 --> 148 passengers\n",
      "1949, 8 --> 148 passengers\n",
      "1949, 9 --> 136 passengers\n",
      "1949, 10 --> 119 passengers\n"
     ]
    }
   ],
   "source": [
    "raw_month = list(df['Month'])\n",
    "passengers = list(df['#Passengers'])\n",
    "\n",
    "for i in range(len(raw_month)):\n",
    "    year = int( raw_month[i].split('-')[0] )\n",
    "    month = int( raw_month[i].split('-')[1] )\n",
    "\n",
    "    psg = passengers[i]\n",
    "\n",
    "    if i < 10: print(f\"{year}, {month} --> {psg} passengers\")"
   ]
  }
 ],
 "metadata": {
  "interpreter": {
   "hash": "cf6ab032c8d0f1ddf2ea4dd4e609e6e6dfd5e53c8a42a3a69958aaabf5715049"
  },
  "kernelspec": {
   "display_name": "Python 3.9.7 64-bit",
   "language": "python",
   "name": "python3"
  },
  "language_info": {
   "codemirror_mode": {
    "name": "ipython",
    "version": 3
   },
   "file_extension": ".py",
   "mimetype": "text/x-python",
   "name": "python",
   "nbconvert_exporter": "python",
   "pygments_lexer": "ipython3",
   "version": "3.9.7"
  },
  "orig_nbformat": 4
 },
 "nbformat": 4,
 "nbformat_minor": 2
}
