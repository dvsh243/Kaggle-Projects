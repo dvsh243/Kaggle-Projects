{
 "cells": [
  {
   "cell_type": "code",
   "execution_count": 1,
   "metadata": {},
   "outputs": [
    {
     "name": "stdout",
     "output_type": "stream",
     "text": [
      "(144, 2)\n",
      "     Month  #Passengers\n",
      "0  1949-01          112\n",
      "1  1949-02          118\n",
      "2  1949-03          132\n",
      "3  1949-04          129\n",
      "4  1949-05          121\n"
     ]
    }
   ],
   "source": [
    "import pandas as pd\n",
    "\n",
    "df = pd.read_csv('AirPassengers.csv')\n",
    "print(df.shape)\n",
    "print(df.head())"
   ]
  },
  {
   "cell_type": "code",
   "execution_count": 2,
   "metadata": {},
   "outputs": [
    {
     "name": "stdout",
     "output_type": "stream",
     "text": [
      "[[0.08333333333333333], [0.16666666666666666], [0.25], [0.3333333333333333], [0.4166666666666667], [0.5], [0.5833333333333334], [0.6666666666666666], [0.75], [0.8333333333333334], [0.9166666666666666], [1.0], [1.0833333333333333], [1.1666666666666667], [1.25], [1.3333333333333333], [1.4166666666666667], [1.5], [1.5833333333333335], [1.6666666666666665]]\n"
     ]
    }
   ],
   "source": [
    "raw_month = list(df['Month'])\n",
    "passengers = list(df['#Passengers'])\n",
    "\n",
    "train_x = []\n",
    "for i in range(len(raw_month)):\n",
    "    year = int( raw_month[i].split('-')[0] ) - 1949\n",
    "    month = int( raw_month[i].split('-')[1] ) / 12 \n",
    "    year_month = year + month\n",
    "    # print(f\"entry {i+1} --> {str(year_month)[:4]}    --> {passengers[i]}\")\n",
    "    train_x.append( [year_month] )\n",
    "\n",
    "print(train_x[:20])"
   ]
  },
  {
   "cell_type": "code",
   "execution_count": 3,
   "metadata": {},
   "outputs": [
    {
     "name": "stdout",
     "output_type": "stream",
     "text": [
      "[[0, 112], [1, 118], [2, 132], [3, 129], [4, 121], [5, 135], [6, 148], [7, 148], [8, 136], [9, 119], [10, 104], [11, 118], [0, 115], [1, 126], [2, 141], [3, 135], [4, 125], [5, 149], [6, 170], [7, 170], [8, 158], [9, 133], [10, 114], [11, 140], [0, 145], [1, 150], [2, 178], [3, 163], [4, 172], [5, 178], [6, 199], [7, 199], [8, 184], [9, 162], [10, 146], [11, 166], [0, 171], [1, 180], [2, 193], [3, 181], [4, 183], [5, 218], [6, 230], [7, 242], [8, 209], [9, 191], [10, 172], [11, 194], [0, 196], [1, 196], [2, 236], [3, 235], [4, 229], [5, 243], [6, 264], [7, 272], [8, 237], [9, 211], [10, 180], [11, 201], [0, 204], [1, 188], [2, 235], [3, 227], [4, 234], [5, 264], [6, 302], [7, 293], [8, 259], [9, 229], [10, 203], [11, 229], [0, 242], [1, 233], [2, 267], [3, 269], [4, 270], [5, 315], [6, 364], [7, 347], [8, 312], [9, 274], [10, 237], [11, 278], [0, 284], [1, 277], [2, 317], [3, 313], [4, 318], [5, 374], [6, 413], [7, 405], [8, 355], [9, 306], [10, 271], [11, 306], [0, 315], [1, 301], [2, 356], [3, 348], [4, 355], [5, 422], [6, 465], [7, 467], [8, 404], [9, 347], [10, 305], [11, 336], [0, 340], [1, 318], [2, 362], [3, 348], [4, 363], [5, 435], [6, 491], [7, 505], [8, 404], [9, 359], [10, 310], [11, 337], [0, 360], [1, 342], [2, 406], [3, 396], [4, 420], [5, 472], [6, 548], [7, 559], [8, 463], [9, 407], [10, 362], [11, 405], [0, 417], [1, 391], [2, 419], [3, 461], [4, 472], [5, 535], [6, 622], [7, 606], [8, 508], [9, 461], [10, 390], [11, 432]]\n",
      "\n",
      "[0, 1, 2, 3, 4, 5, 6, 7, 8, 9, 10, 11]\n"
     ]
    }
   ],
   "source": [
    "documents = []\n",
    "uniq_months = []\n",
    "for i in range(len(raw_month)):\n",
    "    # print(f\"{ int(raw_month[i].split('-')[1])-1 } --> {passengers[i]}\")\n",
    "    documents.append( [ int(raw_month[i].split('-')[1])-1, passengers[i] ]  )\n",
    "    uniq_months.append( int(raw_month[i].split('-')[1])-1 )\n",
    "\n",
    "print(documents, end = '\\n\\n')\n",
    "uniq_months = list(set(uniq_months))\n",
    "print(uniq_months)"
   ]
  },
  {
   "cell_type": "code",
   "execution_count": 7,
   "metadata": {},
   "outputs": [
    {
     "name": "stdout",
     "output_type": "stream",
     "text": [
      "month: 0 --> total psg: 2901\n",
      "month: 1 --> total psg: 2820\n",
      "month: 2 --> total psg: 3242\n",
      "month: 3 --> total psg: 3205\n",
      "month: 4 --> total psg: 3262\n",
      "month: 5 --> total psg: 3740\n",
      "month: 6 --> total psg: 4216\n",
      "month: 7 --> total psg: 4213\n",
      "month: 8 --> total psg: 3629\n",
      "month: 9 --> total psg: 3199\n",
      "month: 10 --> total psg: 2794\n",
      "month: 11 --> total psg: 3142\n",
      "[2901, 2820, 3242, 3205, 3262, 3740, 4216, 4213, 3629, 3199, 2794, 3142]\n"
     ]
    }
   ],
   "source": [
    "total_monthly_pass = []\n",
    "\n",
    "for month in uniq_months:\n",
    "    temp = 0\n",
    "    for doc in documents:\n",
    "        if doc[0] == month:\n",
    "            temp = temp + doc[1]\n",
    "    print(f\"month: {month} --> total psg: {temp}\")\n",
    "    total_monthly_pass.append(temp)\n",
    "\n",
    "print(total_monthly_pass)"
   ]
  },
  {
   "cell_type": "code",
   "execution_count": 8,
   "metadata": {},
   "outputs": [
    {
     "name": "stdout",
     "output_type": "stream",
     "text": [
      "12\n",
      "avg passengers on month 0 --> 241\n",
      "avg passengers on month 1 --> 235\n",
      "avg passengers on month 2 --> 270\n",
      "avg passengers on month 3 --> 267\n",
      "avg passengers on month 4 --> 271\n",
      "avg passengers on month 5 --> 311\n",
      "avg passengers on month 6 --> 351\n",
      "avg passengers on month 7 --> 351\n",
      "avg passengers on month 8 --> 302\n",
      "avg passengers on month 9 --> 266\n",
      "avg passengers on month 10 --> 232\n",
      "avg passengers on month 11 --> 261\n"
     ]
    }
   ],
   "source": [
    "year_list = []\n",
    "for i in raw_month:\n",
    "    year_list.append( int(i.split('-')[0]) - 1949)\n",
    "year_list = list(set(year_list))\n",
    "total_years = len(year_list)\n",
    "print(total_years)\n",
    "\n",
    "for month in uniq_months:\n",
    "    print(f\"avg passengers on month {month} --> {total_monthly_pass[month]//total_years}\")"
   ]
  },
  {
   "cell_type": "code",
   "execution_count": 9,
   "metadata": {},
   "outputs": [
    {
     "name": "stdout",
     "output_type": "stream",
     "text": [
      "avg_pass_per_year = 279\n"
     ]
    }
   ],
   "source": [
    "avg_pass_per_year = 0\n",
    "for month in uniq_months:\n",
    "    avg_pass_per_year = avg_pass_per_year + total_monthly_pass[month]//total_years\n",
    "\n",
    "print('avg_pass_per_year = ', end='')\n",
    "print(avg_pass_per_year//12)"
   ]
  },
  {
   "cell_type": "code",
   "execution_count": 10,
   "metadata": {},
   "outputs": [
    {
     "name": "stdout",
     "output_type": "stream",
     "text": [
      "avg passengers on month 0 --> -38 more than avg per year\n",
      "avg passengers on month 1 --> -44 more than avg per year\n",
      "avg passengers on month 2 --> -9 more than avg per year\n",
      "avg passengers on month 3 --> -12 more than avg per year\n",
      "avg passengers on month 4 --> -8 more than avg per year\n",
      "avg passengers on month 5 --> 32 more than avg per year\n",
      "avg passengers on month 6 --> 72 more than avg per year\n",
      "avg passengers on month 7 --> 72 more than avg per year\n",
      "avg passengers on month 8 --> 23 more than avg per year\n",
      "avg passengers on month 9 --> -13 more than avg per year\n",
      "avg passengers on month 10 --> -47 more than avg per year\n",
      "avg passengers on month 11 --> -18 more than avg per year\n"
     ]
    }
   ],
   "source": [
    "for month in uniq_months:\n",
    "    print(f\"avg passengers on month {month} --> { (total_monthly_pass[month]//total_years) - (avg_pass_per_year//12) } more than avg per year\")"
   ]
  },
  {
   "cell_type": "code",
   "execution_count": 82,
   "metadata": {},
   "outputs": [
    {
     "name": "stdout",
     "output_type": "stream",
     "text": [
      "[[0], [1], [2], [3], [4], [5], [6], [7], [8], [9], [10], [11]]\n",
      "[[-38], [-44], [-9], [-12], [-8], [32], [72], [72], [23], [-13], [-47], [-18]]\n"
     ]
    }
   ],
   "source": [
    "import numpy as np\n",
    "\n",
    "month_train_x = []\n",
    "month_train_y = []\n",
    "\n",
    "for month in uniq_months:\n",
    "    # print(f\"avg passengers on month {month} --> { (total_monthly_pass[month]//total_years) - (avg_pass_per_year//12) } more than avg per year\")\n",
    "    month_train_x.append( [month] )\n",
    "    month_train_y.append( [(total_monthly_pass[month]//total_years) - (avg_pass_per_year//12)] ) # +47 to get rid of negative values\n",
    "\n",
    "print(month_train_x)\n",
    "print(month_train_y)\n",
    "\n",
    "month_train_x = np.array(month_train_x)\n",
    "month_train_y = np.array(month_train_y)"
   ]
  },
  {
   "cell_type": "code",
   "execution_count": 83,
   "metadata": {},
   "outputs": [
    {
     "data": {
      "image/png": "[encoded data removed]",
      "text/plain": [
       "<Figure size 432x288 with 1 Axes>"
      ]
     },
     "metadata": {
      "needs_background": "light"
     },
     "output_type": "display_data"
    }
   ],
   "source": [
    "import matplotlib.pyplot as plt\n",
    "\n",
    "plt.plot(month_train_y)\n",
    "plt.show()"
   ]
  },
  {
   "cell_type": "code",
   "execution_count": 100,
   "metadata": {},
   "outputs": [],
   "source": [
    "from tensorflow.keras.models import Sequential\n",
    "from tensorflow.keras.layers import Dense\n",
    "\n",
    "# so many hidden dense layers so as to overfit the model perfectly\n",
    "month_model = Sequential([\n",
    "    Dense(16, input_shape=[1], activation='relu'),\n",
    "    Dense(16, activation='relu'),\n",
    "    Dense(16, activation='relu'),\n",
    "    Dense(16, activation='relu'),\n",
    "    Dense(16, activation='relu'),\n",
    "    Dense(16, activation='relu'),\n",
    "    Dense(16, activation='relu'),\n",
    "    Dense(16, activation='relu'),\n",
    "    Dense(16, activation='relu'),\n",
    "    Dense(16, activation='relu'),\n",
    "    Dense(16, activation='relu'),\n",
    "    Dense(16, activation='relu'),\n",
    "    Dense(16, activation='relu'),\n",
    "    Dense(16, activation='relu'),\n",
    "    Dense(16, activation='relu'),\n",
    "    Dense(16, activation='relu'),\n",
    "    Dense(16, activation='relu'),\n",
    "    Dense(16, activation='relu'),\n",
    "    Dense(16, activation='relu'),\n",
    "    Dense(16, activation='relu'),\n",
    "    Dense(1)\n",
    "])\n",
    "\n",
    "month_model.compile(\n",
    "    loss='mae',\n",
    "    optimizer='adam',\n",
    ")"
   ]
  },
  {
   "cell_type": "code",
   "execution_count": 101,
   "metadata": {},
   "outputs": [
    {
     "name": "stdout",
     "output_type": "stream",
     "text": [
      "1/1 [==============================] - 0s 330ms/step - loss: 3.1757\n"
     ]
    },
    {
     "data": {
      "text/plain": [
       "3.175727128982544"
      ]
     },
     "execution_count": 101,
     "metadata": {},
     "output_type": "execute_result"
    }
   ],
   "source": [
    "month_history = month_model.fit(\n",
    "    month_train_x, month_train_y,\n",
    "    epochs=1000,\n",
    "    verbose=0\n",
    ")\n",
    "\n",
    "month_model.evaluate(month_train_x, month_train_y)"
   ]
  },
  {
   "cell_type": "code",
   "execution_count": 102,
   "metadata": {},
   "outputs": [
    {
     "name": "stdout",
     "output_type": "stream",
     "text": [
      "[-38] -> [-37.71911]\n",
      "[-44] -> [-43.687523]\n",
      "[-9] -> [-10.855551]\n",
      "[-12] -> [-9.43405]\n",
      "[-8] -> [-7.9679413]\n",
      "[32] -> [31.557026]\n",
      "[72] -> [71.83399]\n",
      "[72] -> [71.87637]\n",
      "[23] -> [22.6349]\n",
      "[-13] -> [-12.890894]\n",
      "[-47] -> [-15.863088]\n",
      "[-18] -> [-18.718071]\n"
     ]
    },
    {
     "data": {
      "image/png": "[encoded data removed]",
      "text/plain": [
       "<Figure size 432x288 with 1 Axes>"
      ]
     },
     "metadata": {
      "needs_background": "light"
     },
     "output_type": "display_data"
    }
   ],
   "source": [
    "pred = month_model.predict( month_train_x )\n",
    "\n",
    "for i in range(len(pred)):\n",
    "    print(f\"{month_train_y[i]} -> {pred[i]}\")\n",
    "\n",
    "plt.plot(month_train_y)\n",
    "plt.plot(pred)\n",
    "plt.show()"
   ]
  }
 ],
 "metadata": {
  "interpreter": {
   "hash": "cf6ab032c8d0f1ddf2ea4dd4e609e6e6dfd5e53c8a42a3a69958aaabf5715049"
  },
  "kernelspec": {
   "display_name": "Python 3.9.7 64-bit",
   "language": "python",
   "name": "python3"
  },
  "language_info": {
   "codemirror_mode": {
    "name": "ipython",
    "version": 3
   },
   "file_extension": ".py",
   "mimetype": "text/x-python",
   "name": "python",
   "nbconvert_exporter": "python",
   "pygments_lexer": "ipython3",
   "version": "3.9.7"
  },
  "orig_nbformat": 4
 },
 "nbformat": 4,
 "nbformat_minor": 2
}
