{
 "cells": [
  {
   "cell_type": "code",
   "execution_count": 40,
   "metadata": {},
   "outputs": [
    {
     "name": "stdout",
     "output_type": "stream",
     "text": [
      "0    4342\n",
      "1    3271\n",
      "Name: target, dtype: int64\n"
     ]
    },
    {
     "data": {
      "text/html": [
       "<div>\n",
       "<style scoped>\n",
       "    .dataframe tbody tr th:only-of-type {\n",
       "        vertical-align: middle;\n",
       "    }\n",
       "\n",
       "    .dataframe tbody tr th {\n",
       "        vertical-align: top;\n",
       "    }\n",
       "\n",
       "    .dataframe thead th {\n",
       "        text-align: right;\n",
       "    }\n",
       "</style>\n",
       "<table border=\"1\" class=\"dataframe\">\n",
       "  <thead>\n",
       "    <tr style=\"text-align: right;\">\n",
       "      <th></th>\n",
       "      <th>id</th>\n",
       "      <th>keyword</th>\n",
       "      <th>location</th>\n",
       "      <th>text</th>\n",
       "      <th>target</th>\n",
       "    </tr>\n",
       "  </thead>\n",
       "  <tbody>\n",
       "    <tr>\n",
       "      <th>0</th>\n",
       "      <td>1</td>\n",
       "      <td>NaN</td>\n",
       "      <td>NaN</td>\n",
       "      <td>Our Deeds are the Reason of this #earthquake M...</td>\n",
       "      <td>1</td>\n",
       "    </tr>\n",
       "    <tr>\n",
       "      <th>1</th>\n",
       "      <td>4</td>\n",
       "      <td>NaN</td>\n",
       "      <td>NaN</td>\n",
       "      <td>Forest fire near La Ronge Sask. Canada</td>\n",
       "      <td>1</td>\n",
       "    </tr>\n",
       "    <tr>\n",
       "      <th>2</th>\n",
       "      <td>5</td>\n",
       "      <td>NaN</td>\n",
       "      <td>NaN</td>\n",
       "      <td>All residents asked to 'shelter in place' are ...</td>\n",
       "      <td>1</td>\n",
       "    </tr>\n",
       "    <tr>\n",
       "      <th>3</th>\n",
       "      <td>6</td>\n",
       "      <td>NaN</td>\n",
       "      <td>NaN</td>\n",
       "      <td>13,000 people receive #wildfires evacuation or...</td>\n",
       "      <td>1</td>\n",
       "    </tr>\n",
       "    <tr>\n",
       "      <th>4</th>\n",
       "      <td>7</td>\n",
       "      <td>NaN</td>\n",
       "      <td>NaN</td>\n",
       "      <td>Just got sent this photo from Ruby #Alaska as ...</td>\n",
       "      <td>1</td>\n",
       "    </tr>\n",
       "  </tbody>\n",
       "</table>\n",
       "</div>"
      ],
      "text/plain": [
       "   id keyword location                                               text  \\\n",
       "0   1     NaN      NaN  Our Deeds are the Reason of this #earthquake M...   \n",
       "1   4     NaN      NaN             Forest fire near La Ronge Sask. Canada   \n",
       "2   5     NaN      NaN  All residents asked to 'shelter in place' are ...   \n",
       "3   6     NaN      NaN  13,000 people receive #wildfires evacuation or...   \n",
       "4   7     NaN      NaN  Just got sent this photo from Ruby #Alaska as ...   \n",
       "\n",
       "   target  \n",
       "0       1  \n",
       "1       1  \n",
       "2       1  \n",
       "3       1  \n",
       "4       1  "
      ]
     },
     "execution_count": 40,
     "metadata": {},
     "output_type": "execute_result"
    }
   ],
   "source": [
    "import pandas as pd\n",
    "df = pd.read_csv('train.csv')\n",
    "\n",
    "print( df.target.value_counts() )\n",
    "df.head()"
   ]
  },
  {
   "cell_type": "code",
   "execution_count": 41,
   "metadata": {},
   "outputs": [
    {
     "data": {
      "text/plain": [
       "['Our Deeds are the Reason of this #earthquake May ALLAH Forgive us all',\n",
       " 'Forest fire near La Ronge Sask. Canada',\n",
       " \"All residents asked to 'shelter in place' are being notified by officers. No other evacuation or shelter in place orders are expected\",\n",
       " '13,000 people receive #wildfires evacuation orders in California ']"
      ]
     },
     "execution_count": 41,
     "metadata": {},
     "output_type": "execute_result"
    }
   ],
   "source": [
    "raw_tweets = list(df['text'])\n",
    "\n",
    "raw_tweets[:4]"
   ]
  },
  {
   "cell_type": "code",
   "execution_count": 42,
   "metadata": {},
   "outputs": [],
   "source": [
    "raw_keywords = list(df['keyword'])"
   ]
  },
  {
   "cell_type": "code",
   "execution_count": 43,
   "metadata": {},
   "outputs": [],
   "source": [
    "def nan_to_string(array):\n",
    "\n",
    "    proc_array = []\n",
    "\n",
    "    for i in range(len(array)):\n",
    "        proc_array.append( [str(array[i])] )\n",
    "\n",
    "    return proc_array"
   ]
  },
  {
   "cell_type": "code",
   "execution_count": 44,
   "metadata": {},
   "outputs": [],
   "source": [
    "import tensorflow as tf\n",
    "\n",
    "def categorical(raw_array, tokenizer, debug=False):\n",
    "\n",
    "    def namestr(obj, namespace):\n",
    "        return [name for name in namespace if namespace[name] is obj]\n",
    "\n",
    "\n",
    "    seq_array = tokenizer.texts_to_sequences(raw_array)\n",
    "\n",
    "    cat_array = tf.keras.utils.to_categorical(seq_array)\n",
    "    cat_array = cat_array[:, 1:]   # cause the [0] value doesnt have anything in the word index\n",
    "\n",
    "\n",
    "    if debug == True:\n",
    "        print(f\"\\ncategorising array --> {namestr(raw_array, globals())[0]}\")\n",
    "        print(f\"unique values --> {tokenizer.word_index}\")\n",
    "        for i in range(5):\n",
    "            print(f\"{raw_array[i]} --> { cat_array[i] }\")\n",
    "        print()\n",
    "        \n",
    "    return cat_array"
   ]
  },
  {
   "cell_type": "code",
   "execution_count": 45,
   "metadata": {},
   "outputs": [],
   "source": [
    "proc_keywords = nan_to_string(raw_keywords)\n",
    "\n",
    "key_tokenizer = tf.keras.preprocessing.text.Tokenizer( lower=False )\n",
    "key_tokenizer.fit_on_texts(proc_keywords)\n",
    "\n",
    "cat_keywords = categorical(proc_keywords, key_tokenizer, debug=False)"
   ]
  },
  {
   "cell_type": "code",
   "execution_count": 46,
   "metadata": {},
   "outputs": [
    {
     "name": "stdout",
     "output_type": "stream",
     "text": [
      "7613\n",
      "222\n"
     ]
    }
   ],
   "source": [
    "print(len(cat_keywords))\n",
    "print(len(cat_keywords[1]))"
   ]
  },
  {
   "cell_type": "code",
   "execution_count": 47,
   "metadata": {},
   "outputs": [],
   "source": [
    "def count_hashtags(array):\n",
    "    hashtag_array = []\n",
    "    \n",
    "    for tweet in array:\n",
    "        hash_count = 0\n",
    "        for letter in tweet:\n",
    "            if letter == '#':\n",
    "                hash_count = hash_count + 1\n",
    "        # print(hash_count, tweet, sep=' --> ')\n",
    "        hashtag_array.append(hash_count)\n",
    "        # break\n",
    "        \n",
    "    return hashtag_array"
   ]
  },
  {
   "cell_type": "code",
   "execution_count": 48,
   "metadata": {},
   "outputs": [
    {
     "data": {
      "text/plain": [
       "[1, 0, 0, 1, 2, 3, 2, 0, 0, 0]"
      ]
     },
     "execution_count": 48,
     "metadata": {},
     "output_type": "execute_result"
    }
   ],
   "source": [
    "hashtag_array = count_hashtags(raw_tweets)\n",
    "hashtag_array[:10]"
   ]
  },
  {
   "cell_type": "code",
   "execution_count": 49,
   "metadata": {},
   "outputs": [],
   "source": [
    "def has_link(array):\n",
    "    link_array = []\n",
    "\n",
    "    for tweet in array:\n",
    "        link_pres = 0\n",
    "        link_split = tweet.split('http:')\n",
    "        if len(link_split) > 1:\n",
    "            link_pres = link_pres + 1\n",
    "\n",
    "        # print(f\"{link_pres} --> {link_split}\")\n",
    "        link_array.append(link_pres)\n",
    "        # break\n",
    "\n",
    "    return link_array"
   ]
  },
  {
   "cell_type": "code",
   "execution_count": 50,
   "metadata": {},
   "outputs": [
    {
     "data": {
      "text/plain": [
       "[0, 0, 1, 1, 1, 1, 1, 1, 1, 0, 1, 1, 0, 1, 1, 1, 0, 1, 0, 1]"
      ]
     },
     "execution_count": 50,
     "metadata": {},
     "output_type": "execute_result"
    }
   ],
   "source": [
    "link_array = has_link(raw_tweets)\n",
    "link_array[-20:]"
   ]
  },
  {
   "cell_type": "code",
   "execution_count": 51,
   "metadata": {},
   "outputs": [],
   "source": [
    "import tensorflow as tf\n",
    "from tensorflow.keras.layers.experimental.preprocessing import TextVectorization\n",
    "\n",
    "max_vocab = 10000 # max number of words to have in our vocabulary\n",
    "max_seq_length = 15 # max length our sequences will be \n",
    "\n",
    "text_vectorizer = TextVectorization(\n",
    "    max_tokens = max_vocab,\n",
    "    # standardize=\"lower_and_strip_punctuation\",\n",
    "    output_mode = \"int\",\n",
    "    output_sequence_length = max_seq_length\n",
    ")"
   ]
  },
  {
   "cell_type": "code",
   "execution_count": 52,
   "metadata": {},
   "outputs": [
    {
     "data": {
      "text/plain": [
       "['', '[UNK]', 'the', 'a', 'in', 'to', 'of', 'and', 'i', 'is']"
      ]
     },
     "execution_count": 52,
     "metadata": {},
     "output_type": "execute_result"
    }
   ],
   "source": [
    "text_vectorizer.adapt(raw_tweets)\n",
    "\n",
    "vocabulary = text_vectorizer.get_vocabulary()\n",
    "text_vectorizer.get_vocabulary()[:10]"
   ]
  },
  {
   "cell_type": "code",
   "execution_count": 53,
   "metadata": {},
   "outputs": [
    {
     "name": "stdout",
     "output_type": "stream",
     "text": [
      "tf.Tensor(\n",
      "[[ 110 6241   22    2  835    6   19  250  125 1689 5990   70   40    0\n",
      "     0]\n",
      " [ 180   42  222  694 9621 9422 1434    0    0    0    0    0    0    0\n",
      "     0]\n",
      " [  40 1739 1685    5 2150    4  663   22  123    1   18 1759   41  428\n",
      "   249]\n",
      " [3475   56 5118 1353  249 1388    4   88    0    0    0    0    0    0\n",
      "     0]\n",
      " [  29   95 1193   19  327   20 9557 2364   26  257   20 1353    1   66\n",
      "     3]], shape=(5, 15), dtype=int64)\n"
     ]
    }
   ],
   "source": [
    "proc_tweets = text_vectorizer(raw_tweets)\n",
    "\n",
    "print(proc_tweets[:5])"
   ]
  },
  {
   "cell_type": "code",
   "execution_count": 54,
   "metadata": {},
   "outputs": [
    {
     "name": "stdout",
     "output_type": "stream",
     "text": [
      "110 --> our\n",
      "6241 --> deeds\n",
      "22 --> are\n",
      "2 --> the\n",
      "835 --> reason\n",
      "6 --> of\n",
      "19 --> this\n",
      "250 --> earthquake\n",
      "125 --> may\n",
      "1689 --> allah\n",
      "5990 --> forgive\n",
      "70 --> us\n",
      "40 --> all\n",
      "0 --> \n",
      "0 --> \n"
     ]
    }
   ],
   "source": [
    "# checking if the vectorized text is decoded properly\n",
    "\n",
    "for seq in proc_tweets[0]:\n",
    "    print(f\"{int(seq)} --> {vocabulary[seq]}\")"
   ]
  },
  {
   "cell_type": "code",
   "execution_count": 94,
   "metadata": {},
   "outputs": [
    {
     "data": {
      "text/plain": [
       "[1, 1, 1, 1, 1, 1, 1, 1, 1, 1, 1, 1, 1, 1, 1, 0, 0, 0, 0, 0]"
      ]
     },
     "execution_count": 94,
     "metadata": {},
     "output_type": "execute_result"
    }
   ],
   "source": [
    "targets = list(df['target'])\n",
    "targets[:20]"
   ]
  },
  {
   "cell_type": "code",
   "execution_count": 95,
   "metadata": {},
   "outputs": [],
   "source": [
    "train_x = []\n",
    "\n",
    "for i in range(len(proc_tweets)):\n",
    "    temp_token_arr = []\n",
    "    for seq in proc_tweets[i]:\n",
    "        temp_token_arr.append(int(seq))\n",
    "\n",
    "    temp = [\n",
    "        temp_token_arr\n",
    "    ]\n",
    "    temp[0].extend(cat_keywords[i])\n",
    "    train_x.append(temp[0])\n",
    "    \n",
    "    # if i == 2:\n",
    "        # print(temp)\n",
    "\n",
    "# train_x[:2]"
   ]
  },
  {
   "cell_type": "code",
   "execution_count": 96,
   "metadata": {},
   "outputs": [],
   "source": [
    "# train_x = []\n",
    "\n",
    "# for tweet in proc_tweets:\n",
    "#     bag = []\n",
    "#     for word in tweet:\n",
    "#         bag.append(int(word))\n",
    "#     train_x.append(bag)\n",
    "\n",
    "# train_x[:4]"
   ]
  },
  {
   "cell_type": "code",
   "execution_count": 106,
   "metadata": {},
   "outputs": [
    {
     "data": {
      "text/plain": [
       "array([1.100e+02, 6.241e+03, 2.200e+01, 2.000e+00, 8.350e+02, 6.000e+00,\n",
       "       1.900e+01, 2.500e+02, 1.250e+02, 1.689e+03, 5.990e+03, 7.000e+01,\n",
       "       4.000e+01, 0.000e+00, 0.000e+00])"
      ]
     },
     "execution_count": 106,
     "metadata": {},
     "output_type": "execute_result"
    }
   ],
   "source": [
    "import numpy as np\n",
    "\n",
    "train_x = np.array(train_x)\n",
    "train_y = np.array(targets)\n",
    "\n",
    "train_x[0][:15]\n",
    "# len(train_x[0])  # 237"
   ]
  },
  {
   "cell_type": "code",
   "execution_count": 109,
   "metadata": {},
   "outputs": [],
   "source": [
    "from tensorflow.keras import layers\n",
    "from tensorflow.keras.models import Model\n",
    "\n",
    "# visible = layers.Input( shape=[max_seq_length] )\n",
    "visible = layers.Input( shape=[237] )\n",
    "x = layers.Embedding(\n",
    "    input_dim = max_vocab,\n",
    "    output_dim = 128,\n",
    "    # input_length = max_seq_length,\n",
    "    input_length = 237,\n",
    ")(visible)\n",
    "x = layers.GlobalAveragePooling1D()(x)\n",
    "\n",
    "x = layers.Dense(32, activation='relu')(x)\n",
    "x = layers.Dense(32, activation='relu')(x)\n",
    "output = layers.Dense(1,activation=\"sigmoid\")(x)\n",
    "\n",
    "model = Model( inputs=[visible], outputs=[output] )"
   ]
  },
  {
   "cell_type": "code",
   "execution_count": 127,
   "metadata": {},
   "outputs": [
    {
     "name": "stdout",
     "output_type": "stream",
     "text": [
      "Epoch 1/2\n",
      "191/191 [==============================] - 8s 35ms/step - loss: 0.2004 - accuracy: 0.9205 - val_loss: 0.2685 - val_accuracy: 0.8844\n",
      "Epoch 2/2\n",
      "191/191 [==============================] - 6s 33ms/step - loss: 0.1738 - accuracy: 0.9358 - val_loss: 0.2800 - val_accuracy: 0.8792\n"
     ]
    }
   ],
   "source": [
    "model.compile(\n",
    "    loss='binary_crossentropy',\n",
    "    optimizer='adam',\n",
    "    metrics=['accuracy']\n",
    ")\n",
    "\n",
    "history = model.fit(\n",
    "    train_x, train_y,\n",
    "    validation_split=0.2,\n",
    "    epochs=2,\n",
    ")\n"
   ]
  },
  {
   "cell_type": "code",
   "execution_count": 128,
   "metadata": {},
   "outputs": [],
   "source": [
    "# import matplotlib.pyplot as plt\n",
    "\n",
    "# plt.plot( history.history['loss'] )\n",
    "# plt.plot( history.history['val_loss'] )\n",
    "# plt.show()"
   ]
  },
  {
   "cell_type": "code",
   "execution_count": 129,
   "metadata": {},
   "outputs": [
    {
     "data": {
      "text/html": [
       "<div>\n",
       "<style scoped>\n",
       "    .dataframe tbody tr th:only-of-type {\n",
       "        vertical-align: middle;\n",
       "    }\n",
       "\n",
       "    .dataframe tbody tr th {\n",
       "        vertical-align: top;\n",
       "    }\n",
       "\n",
       "    .dataframe thead th {\n",
       "        text-align: right;\n",
       "    }\n",
       "</style>\n",
       "<table border=\"1\" class=\"dataframe\">\n",
       "  <thead>\n",
       "    <tr style=\"text-align: right;\">\n",
       "      <th></th>\n",
       "      <th>id</th>\n",
       "      <th>keyword</th>\n",
       "      <th>location</th>\n",
       "      <th>text</th>\n",
       "    </tr>\n",
       "  </thead>\n",
       "  <tbody>\n",
       "    <tr>\n",
       "      <th>0</th>\n",
       "      <td>0</td>\n",
       "      <td>NaN</td>\n",
       "      <td>NaN</td>\n",
       "      <td>Just happened a terrible car crash</td>\n",
       "    </tr>\n",
       "    <tr>\n",
       "      <th>1</th>\n",
       "      <td>2</td>\n",
       "      <td>NaN</td>\n",
       "      <td>NaN</td>\n",
       "      <td>Heard about #earthquake is different cities, s...</td>\n",
       "    </tr>\n",
       "    <tr>\n",
       "      <th>2</th>\n",
       "      <td>3</td>\n",
       "      <td>NaN</td>\n",
       "      <td>NaN</td>\n",
       "      <td>there is a forest fire at spot pond, geese are...</td>\n",
       "    </tr>\n",
       "    <tr>\n",
       "      <th>3</th>\n",
       "      <td>9</td>\n",
       "      <td>NaN</td>\n",
       "      <td>NaN</td>\n",
       "      <td>Apocalypse lighting. #Spokane #wildfires</td>\n",
       "    </tr>\n",
       "    <tr>\n",
       "      <th>4</th>\n",
       "      <td>11</td>\n",
       "      <td>NaN</td>\n",
       "      <td>NaN</td>\n",
       "      <td>Typhoon Soudelor kills 28 in China and Taiwan</td>\n",
       "    </tr>\n",
       "  </tbody>\n",
       "</table>\n",
       "</div>"
      ],
      "text/plain": [
       "   id keyword location                                               text\n",
       "0   0     NaN      NaN                 Just happened a terrible car crash\n",
       "1   2     NaN      NaN  Heard about #earthquake is different cities, s...\n",
       "2   3     NaN      NaN  there is a forest fire at spot pond, geese are...\n",
       "3   9     NaN      NaN           Apocalypse lighting. #Spokane #wildfires\n",
       "4  11     NaN      NaN      Typhoon Soudelor kills 28 in China and Taiwan"
      ]
     },
     "execution_count": 129,
     "metadata": {},
     "output_type": "execute_result"
    }
   ],
   "source": [
    "test_df = pd.read_csv('test.csv')\n",
    "test_df.head()"
   ]
  },
  {
   "cell_type": "code",
   "execution_count": 130,
   "metadata": {},
   "outputs": [
    {
     "data": {
      "text/plain": [
       "<tf.Tensor: shape=(3, 15), dtype=int64, numpy=\n",
       "array([[  29,  893,    3, 1910,  122,   85,    0,    0,    0,    0,    0,\n",
       "           0,    0,    0,    0],\n",
       "       [ 450,   53,  250,    9, 1159, 2754,  592, 1940,  228,    0,    0,\n",
       "           0,    0,    0,    0],\n",
       "       [  75,    9,    3,  180,   42,   17,  767, 3034,    1,   22, 6003,\n",
       "         865,    2,  712,    8]], dtype=int64)>"
      ]
     },
     "execution_count": 130,
     "metadata": {},
     "output_type": "execute_result"
    }
   ],
   "source": [
    "test_tweets = list(test_df['text'])\n",
    "\n",
    "proc_test = text_vectorizer(test_tweets)\n",
    "proc_test[:3]"
   ]
  },
  {
   "cell_type": "code",
   "execution_count": 131,
   "metadata": {},
   "outputs": [
    {
     "data": {
      "text/plain": [
       "[0, 1, 0, 2, 0, 0, 0, 0, 0, 0]"
      ]
     },
     "execution_count": 131,
     "metadata": {},
     "output_type": "execute_result"
    }
   ],
   "source": [
    "test_hashtag_array = count_hashtags(test_tweets)\n",
    "test_hashtag_array[:10]"
   ]
  },
  {
   "cell_type": "code",
   "execution_count": 132,
   "metadata": {},
   "outputs": [
    {
     "data": {
      "text/plain": [
       "[1, 0, 0, 0, 1, 0, 0, 0, 0, 1, 1, 0, 1, 0, 0, 0, 0, 1, 1, 0]"
      ]
     },
     "execution_count": 132,
     "metadata": {},
     "output_type": "execute_result"
    }
   ],
   "source": [
    "test_link_array = has_link(test_tweets)\n",
    "test_link_array[-20:]"
   ]
  },
  {
   "cell_type": "code",
   "execution_count": 133,
   "metadata": {},
   "outputs": [
    {
     "data": {
      "text/plain": [
       "array([1., 0., 0., 0., 0., 0., 0., 0., 0., 0., 0., 0., 0., 0., 0., 0., 0.,\n",
       "       0., 0., 0., 0., 0., 0., 0., 0., 0., 0., 0., 0., 0., 0., 0., 0., 0.,\n",
       "       0., 0., 0., 0., 0., 0., 0., 0., 0., 0., 0., 0., 0., 0., 0., 0., 0.,\n",
       "       0., 0., 0., 0., 0., 0., 0., 0., 0., 0., 0., 0., 0., 0., 0., 0., 0.,\n",
       "       0., 0., 0., 0., 0., 0., 0., 0., 0., 0., 0., 0., 0., 0., 0., 0., 0.,\n",
       "       0., 0., 0., 0., 0., 0., 0., 0., 0., 0., 0., 0., 0., 0., 0., 0., 0.,\n",
       "       0., 0., 0., 0., 0., 0., 0., 0., 0., 0., 0., 0., 0., 0., 0., 0., 0.,\n",
       "       0., 0., 0., 0., 0., 0., 0., 0., 0., 0., 0., 0., 0., 0., 0., 0., 0.,\n",
       "       0., 0., 0., 0., 0., 0., 0., 0., 0., 0., 0., 0., 0., 0., 0., 0., 0.,\n",
       "       0., 0., 0., 0., 0., 0., 0., 0., 0., 0., 0., 0., 0., 0., 0., 0., 0.,\n",
       "       0., 0., 0., 0., 0., 0., 0., 0., 0., 0., 0., 0., 0., 0., 0., 0., 0.,\n",
       "       0., 0., 0., 0., 0., 0., 0., 0., 0., 0., 0., 0., 0., 0., 0., 0., 0.,\n",
       "       0., 0., 0., 0., 0., 0., 0., 0., 0., 0., 0., 0., 0., 0., 0., 0., 0.,\n",
       "       0.], dtype=float32)"
      ]
     },
     "execution_count": 133,
     "metadata": {},
     "output_type": "execute_result"
    }
   ],
   "source": [
    "test_keywords = list(test_df['keyword'])\n",
    "proc_test_keywords = nan_to_string(test_keywords)\n",
    "cat_test_keywords = categorical(proc_test_keywords, key_tokenizer, debug=False)\n",
    "\n",
    "cat_test_keywords[0]"
   ]
  },
  {
   "cell_type": "code",
   "execution_count": 134,
   "metadata": {},
   "outputs": [],
   "source": [
    "test_x = []\n",
    "\n",
    "for i in range(len(proc_test)):\n",
    "    temp_token_arr = []\n",
    "    for seq in proc_test[i]:\n",
    "        temp_token_arr.append(int(seq))\n",
    "        \n",
    "    temp = [\n",
    "        temp_token_arr\n",
    "    ]\n",
    "    temp[0].extend(cat_test_keywords[i])\n",
    "    test_x.append(temp[0])\n",
    "    \n",
    "    # if i < 1:\n",
    "    #     print(temp)"
   ]
  },
  {
   "cell_type": "code",
   "execution_count": 135,
   "metadata": {},
   "outputs": [],
   "source": [
    "# test_x = []\n",
    "\n",
    "# for tweet in proc_test:\n",
    "#     bag = []\n",
    "#     for word in tweet:\n",
    "#         bag.append(int(word))\n",
    "#     test_x.append(bag)\n",
    "\n",
    "# test_x[:4]"
   ]
  },
  {
   "cell_type": "code",
   "execution_count": 136,
   "metadata": {},
   "outputs": [
    {
     "name": "stdout",
     "output_type": "stream",
     "text": [
      "92.0 % distress --> Just happened a terrible car crash\n",
      "78.0 % distress --> Heard about #earthquake is different cities, stay safe everyone.\n",
      "99.0 % distress --> there is a forest fire at spot pond, geese are fleeing across the street, I cannot save them all\n",
      "96.0 % distress --> Apocalypse lighting. #Spokane #wildfires\n",
      "99.0 % distress --> Typhoon Soudelor kills 28 in China and Taiwan\n",
      "97.0 % distress --> We're shaking...It's an earthquake\n",
      "0.0 % distress --> They'd probably still show more life than Arsenal did yesterday, eh? EH?\n",
      "15.0 % distress --> Hey! How are you?\n",
      "1.0 % distress --> What a nice hat?\n",
      "32.0 % distress --> Fuck off!\n",
      "13.0 % distress --> No I don't like cold!\n",
      "64.0 % distress --> NOOOOOOOOO! Don't do that!\n",
      "41.0 % distress --> No don't tell me that!\n",
      "31.0 % distress --> What if?!\n",
      "12.0 % distress --> Awesome!\n",
      "98.0 % distress --> Birmingham Wholesale Market is ablaze BBC News - Fire breaks out at Birmingham's Wholesale Market http://t.co/irWqCEZWEU\n",
      "6.0 % distress --> @sunkxssedharry will you wear shorts for race ablaze ?\n",
      "95.0 % distress --> #PreviouslyOnDoyinTv: Toke MakinwaÛªs marriage crisis sets Nigerian Twitter ablaze... http://t.co/CMghxBa2XI\n",
      "0.0 % distress --> Check these out: http://t.co/rOI2NSmEJJ http://t.co/3Tj8ZjiN21 http://t.co/YDUiXEfIpE http://t.co/LxTjc87KLS #nsfw\n",
      "1.0 % distress --> PSA: IÛªm splitting my personalities.\n",
      "\n",
      "?? techies follow @ablaze_co\n",
      "?? Burners follow @ablaze\n"
     ]
    }
   ],
   "source": [
    "predictions = model.predict(test_x)\n",
    "\n",
    "test_targets = []\n",
    "for i in range(len(predictions)):\n",
    "    if predictions[i][0]//0.01 > 50:\n",
    "        test_targets.append(1)\n",
    "    if predictions[i][0]//0.01 < 50:\n",
    "        test_targets.append(0)\n",
    "    if predictions[i][0]//0.01 == 50:\n",
    "        test_targets.append(0)\n",
    "    if i < 20:\n",
    "        print(f\"{predictions[i][0]//0.01} % distress --> {test_tweets[i]}\")"
   ]
  },
  {
   "cell_type": "code",
   "execution_count": 137,
   "metadata": {},
   "outputs": [
    {
     "data": {
      "text/html": [
       "<div>\n",
       "<style scoped>\n",
       "    .dataframe tbody tr th:only-of-type {\n",
       "        vertical-align: middle;\n",
       "    }\n",
       "\n",
       "    .dataframe tbody tr th {\n",
       "        vertical-align: top;\n",
       "    }\n",
       "\n",
       "    .dataframe thead th {\n",
       "        text-align: right;\n",
       "    }\n",
       "</style>\n",
       "<table border=\"1\" class=\"dataframe\">\n",
       "  <thead>\n",
       "    <tr style=\"text-align: right;\">\n",
       "      <th></th>\n",
       "      <th>id</th>\n",
       "      <th>target</th>\n",
       "    </tr>\n",
       "  </thead>\n",
       "  <tbody>\n",
       "    <tr>\n",
       "      <th>0</th>\n",
       "      <td>0</td>\n",
       "      <td>1</td>\n",
       "    </tr>\n",
       "    <tr>\n",
       "      <th>1</th>\n",
       "      <td>2</td>\n",
       "      <td>1</td>\n",
       "    </tr>\n",
       "    <tr>\n",
       "      <th>2</th>\n",
       "      <td>3</td>\n",
       "      <td>1</td>\n",
       "    </tr>\n",
       "    <tr>\n",
       "      <th>3</th>\n",
       "      <td>9</td>\n",
       "      <td>1</td>\n",
       "    </tr>\n",
       "    <tr>\n",
       "      <th>4</th>\n",
       "      <td>11</td>\n",
       "      <td>1</td>\n",
       "    </tr>\n",
       "  </tbody>\n",
       "</table>\n",
       "</div>"
      ],
      "text/plain": [
       "   id  target\n",
       "0   0       1\n",
       "1   2       1\n",
       "2   3       1\n",
       "3   9       1\n",
       "4  11       1"
      ]
     },
     "execution_count": 137,
     "metadata": {},
     "output_type": "execute_result"
    }
   ],
   "source": [
    "id = list(test_df['id'])\n",
    "\n",
    "submit_dict = {\n",
    "    'id': id,\n",
    "    'target': test_targets\n",
    "}\n",
    "\n",
    "submit_df = pd.DataFrame(submit_dict)\n",
    "submit_df.head()"
   ]
  },
  {
   "cell_type": "code",
   "execution_count": 139,
   "metadata": {},
   "outputs": [],
   "source": [
    "# submit_df.to_csv('submit.csv')"
   ]
  }
 ],
 "metadata": {
  "interpreter": {
   "hash": "cf6ab032c8d0f1ddf2ea4dd4e609e6e6dfd5e53c8a42a3a69958aaabf5715049"
  },
  "kernelspec": {
   "display_name": "Python 3.9.7 64-bit",
   "language": "python",
   "name": "python3"
  },
  "language_info": {
   "codemirror_mode": {
    "name": "ipython",
    "version": 3
   },
   "file_extension": ".py",
   "mimetype": "text/x-python",
   "name": "python",
   "nbconvert_exporter": "python",
   "pygments_lexer": "ipython3",
   "version": "3.9.7"
  },
  "orig_nbformat": 4
 },
 "nbformat": 4,
 "nbformat_minor": 2
}
