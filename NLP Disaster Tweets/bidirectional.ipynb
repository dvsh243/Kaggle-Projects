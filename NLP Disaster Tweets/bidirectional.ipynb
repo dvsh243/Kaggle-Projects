{
 "cells": [
  {
   "cell_type": "code",
   "execution_count": 36,
   "metadata": {},
   "outputs": [
    {
     "name": "stdout",
     "output_type": "stream",
     "text": [
      "0    4342\n",
      "1    3271\n",
      "Name: target, dtype: int64\n"
     ]
    },
    {
     "data": {
      "text/html": [
       "<div>\n",
       "<style scoped>\n",
       "    .dataframe tbody tr th:only-of-type {\n",
       "        vertical-align: middle;\n",
       "    }\n",
       "\n",
       "    .dataframe tbody tr th {\n",
       "        vertical-align: top;\n",
       "    }\n",
       "\n",
       "    .dataframe thead th {\n",
       "        text-align: right;\n",
       "    }\n",
       "</style>\n",
       "<table border=\"1\" class=\"dataframe\">\n",
       "  <thead>\n",
       "    <tr style=\"text-align: right;\">\n",
       "      <th></th>\n",
       "      <th>id</th>\n",
       "      <th>keyword</th>\n",
       "      <th>location</th>\n",
       "      <th>text</th>\n",
       "      <th>target</th>\n",
       "    </tr>\n",
       "  </thead>\n",
       "  <tbody>\n",
       "    <tr>\n",
       "      <th>0</th>\n",
       "      <td>1</td>\n",
       "      <td>NaN</td>\n",
       "      <td>NaN</td>\n",
       "      <td>Our Deeds are the Reason of this #earthquake M...</td>\n",
       "      <td>1</td>\n",
       "    </tr>\n",
       "    <tr>\n",
       "      <th>1</th>\n",
       "      <td>4</td>\n",
       "      <td>NaN</td>\n",
       "      <td>NaN</td>\n",
       "      <td>Forest fire near La Ronge Sask. Canada</td>\n",
       "      <td>1</td>\n",
       "    </tr>\n",
       "    <tr>\n",
       "      <th>2</th>\n",
       "      <td>5</td>\n",
       "      <td>NaN</td>\n",
       "      <td>NaN</td>\n",
       "      <td>All residents asked to 'shelter in place' are ...</td>\n",
       "      <td>1</td>\n",
       "    </tr>\n",
       "    <tr>\n",
       "      <th>3</th>\n",
       "      <td>6</td>\n",
       "      <td>NaN</td>\n",
       "      <td>NaN</td>\n",
       "      <td>13,000 people receive #wildfires evacuation or...</td>\n",
       "      <td>1</td>\n",
       "    </tr>\n",
       "    <tr>\n",
       "      <th>4</th>\n",
       "      <td>7</td>\n",
       "      <td>NaN</td>\n",
       "      <td>NaN</td>\n",
       "      <td>Just got sent this photo from Ruby #Alaska as ...</td>\n",
       "      <td>1</td>\n",
       "    </tr>\n",
       "  </tbody>\n",
       "</table>\n",
       "</div>"
      ],
      "text/plain": [
       "   id keyword location                                               text  \\\n",
       "0   1     NaN      NaN  Our Deeds are the Reason of this #earthquake M...   \n",
       "1   4     NaN      NaN             Forest fire near La Ronge Sask. Canada   \n",
       "2   5     NaN      NaN  All residents asked to 'shelter in place' are ...   \n",
       "3   6     NaN      NaN  13,000 people receive #wildfires evacuation or...   \n",
       "4   7     NaN      NaN  Just got sent this photo from Ruby #Alaska as ...   \n",
       "\n",
       "   target  \n",
       "0       1  \n",
       "1       1  \n",
       "2       1  \n",
       "3       1  \n",
       "4       1  "
      ]
     },
     "execution_count": 36,
     "metadata": {},
     "output_type": "execute_result"
    }
   ],
   "source": [
    "import pandas as pd\n",
    "df = pd.read_csv('train.csv')\n",
    "\n",
    "print( df.target.value_counts() )\n",
    "df.head()"
   ]
  },
  {
   "cell_type": "code",
   "execution_count": 37,
   "metadata": {},
   "outputs": [
    {
     "data": {
      "text/plain": [
       "['Our Deeds are the Reason of this #earthquake May ALLAH Forgive us all',\n",
       " 'Forest fire near La Ronge Sask. Canada',\n",
       " \"All residents asked to 'shelter in place' are being notified by officers. No other evacuation or shelter in place orders are expected\",\n",
       " '13,000 people receive #wildfires evacuation orders in California ']"
      ]
     },
     "execution_count": 37,
     "metadata": {},
     "output_type": "execute_result"
    }
   ],
   "source": [
    "raw_tweets = list(df['text'])\n",
    "\n",
    "raw_tweets[:4]"
   ]
  },
  {
   "cell_type": "code",
   "execution_count": 38,
   "metadata": {},
   "outputs": [],
   "source": [
    "import tensorflow as tf\n",
    "from tensorflow.keras.layers.experimental.preprocessing import TextVectorization\n",
    "\n",
    "max_vocab = 10000 # max number of words to have in our vocabulary\n",
    "max_seq_length = 15 # max length our sequences will be \n",
    "\n",
    "text_vectorizer = TextVectorization(\n",
    "    max_tokens = max_vocab,\n",
    "    # standardize=\"lower_and_strip_punctuation\",\n",
    "    output_mode = \"int\",\n",
    "    output_sequence_length = max_seq_length\n",
    ")"
   ]
  },
  {
   "cell_type": "code",
   "execution_count": 39,
   "metadata": {},
   "outputs": [
    {
     "data": {
      "text/plain": [
       "['', '[UNK]', 'the', 'a', 'in', 'to', 'of', 'and', 'i', 'is']"
      ]
     },
     "execution_count": 39,
     "metadata": {},
     "output_type": "execute_result"
    }
   ],
   "source": [
    "text_vectorizer.adapt(raw_tweets)\n",
    "\n",
    "vocabulary = text_vectorizer.get_vocabulary()\n",
    "text_vectorizer.get_vocabulary()[:10]"
   ]
  },
  {
   "cell_type": "code",
   "execution_count": 40,
   "metadata": {},
   "outputs": [
    {
     "name": "stdout",
     "output_type": "stream",
     "text": [
      "tf.Tensor(\n",
      "[[ 110 6241   22    2  835    6   19  250  125 1689 5990   70   40    0\n",
      "     0]\n",
      " [ 180   42  222  694 9621 9422 1434    0    0    0    0    0    0    0\n",
      "     0]\n",
      " [  40 1739 1685    5 2150    4  663   22  123    1   18 1759   41  428\n",
      "   249]\n",
      " [3475   56 5118 1353  249 1388    4   88    0    0    0    0    0    0\n",
      "     0]\n",
      " [  29   95 1193   19  327   20 9557 2364   26  257   20 1353    1   66\n",
      "     3]], shape=(5, 15), dtype=int64)\n"
     ]
    }
   ],
   "source": [
    "proc_tweets = text_vectorizer(raw_tweets)\n",
    "\n",
    "print(proc_tweets[:5])"
   ]
  },
  {
   "cell_type": "code",
   "execution_count": 41,
   "metadata": {},
   "outputs": [
    {
     "name": "stdout",
     "output_type": "stream",
     "text": [
      "110 --> our\n",
      "6241 --> deeds\n",
      "22 --> are\n",
      "2 --> the\n",
      "835 --> reason\n",
      "6 --> of\n",
      "19 --> this\n",
      "250 --> earthquake\n",
      "125 --> may\n",
      "1689 --> allah\n",
      "5990 --> forgive\n",
      "70 --> us\n",
      "40 --> all\n",
      "0 --> \n",
      "0 --> \n"
     ]
    }
   ],
   "source": [
    "# checking if the vectorized text is decoded properly\n",
    "\n",
    "for seq in proc_tweets[0]:\n",
    "    print(f\"{int(seq)} --> {vocabulary[seq]}\")"
   ]
  },
  {
   "cell_type": "code",
   "execution_count": 42,
   "metadata": {},
   "outputs": [
    {
     "data": {
      "text/plain": [
       "[1, 1, 1, 1, 1, 1, 1, 1, 1, 1, 1, 1, 1, 1, 1, 0, 0, 0, 0, 0]"
      ]
     },
     "execution_count": 42,
     "metadata": {},
     "output_type": "execute_result"
    }
   ],
   "source": [
    "targets = list(df['target'])\n",
    "targets[:20]"
   ]
  },
  {
   "cell_type": "code",
   "execution_count": 43,
   "metadata": {},
   "outputs": [],
   "source": [
    "# train_x = []\n",
    "\n",
    "# for tweet in proc_tweets:\n",
    "#     bag = []\n",
    "#     for word in tweet:\n",
    "#         bag.append(int(word))\n",
    "#     train_x.append(bag)\n",
    "\n",
    "# train_x[:4]"
   ]
  },
  {
   "cell_type": "code",
   "execution_count": 44,
   "metadata": {},
   "outputs": [],
   "source": [
    "import numpy as np\n",
    "\n",
    "train_x = np.array(proc_tweets)\n",
    "train_y = np.array(targets)"
   ]
  },
  {
   "cell_type": "code",
   "execution_count": 45,
   "metadata": {},
   "outputs": [],
   "source": [
    "from tensorflow.keras import layers\n",
    "from tensorflow.keras.models import Model\n",
    "\n",
    "visible = layers.Input( shape=[max_seq_length] )\n",
    "x = layers.Embedding(\n",
    "    input_dim = max_vocab,\n",
    "    output_dim = 128,\n",
    "    input_length = max_seq_length,\n",
    ")(visible)\n",
    "# x = layers.GlobalAveragePooling1D()(x)\n",
    "x = layers.Bidirectional( layers.LSTM(64) )(x)\n",
    "x = layers.Dense(32, activation='relu')(x)\n",
    "x = layers.Dense(32, activation='relu')(x)\n",
    "output = layers.Dense(1,activation=\"sigmoid\")(x)\n",
    "\n",
    "model = Model( inputs=[visible], outputs=[output] )"
   ]
  },
  {
   "cell_type": "code",
   "execution_count": 46,
   "metadata": {},
   "outputs": [
    {
     "name": "stdout",
     "output_type": "stream",
     "text": [
      "Epoch 1/2\n",
      "226/226 [==============================] - 16s 46ms/step - loss: 0.5213 - accuracy: 0.7396 - val_loss: 0.4223 - val_accuracy: 0.7795\n",
      "Epoch 2/2\n",
      "226/226 [==============================] - 9s 40ms/step - loss: 0.3261 - accuracy: 0.8662 - val_loss: 0.4209 - val_accuracy: 0.7900\n"
     ]
    }
   ],
   "source": [
    "model.compile(\n",
    "    loss='binary_crossentropy',\n",
    "    optimizer='adam',\n",
    "    metrics=['accuracy']\n",
    ")\n",
    "\n",
    "history = model.fit(\n",
    "    train_x, train_y,\n",
    "    validation_split=0.05,\n",
    "    epochs=2,\n",
    ")\n"
   ]
  },
  {
   "cell_type": "code",
   "execution_count": 47,
   "metadata": {},
   "outputs": [],
   "source": [
    "# import matplotlib.pyplot as plt\n",
    "\n",
    "# plt.plot( history.history['loss'] )\n",
    "# plt.plot( history.history['val_loss'] )\n",
    "# plt.show()"
   ]
  },
  {
   "cell_type": "code",
   "execution_count": 48,
   "metadata": {},
   "outputs": [],
   "source": [
    "test_df = pd.read_csv('test.csv')\n",
    "\n",
    "test_tweets = list(test_df['text'])"
   ]
  },
  {
   "cell_type": "code",
   "execution_count": 49,
   "metadata": {},
   "outputs": [
    {
     "data": {
      "text/plain": [
       "<tf.Tensor: shape=(3, 15), dtype=int64, numpy=\n",
       "array([[  29,  893,    3, 1910,  122,   85,    0,    0,    0,    0,    0,\n",
       "           0,    0,    0,    0],\n",
       "       [ 450,   53,  250,    9, 1159, 2754,  592, 1940,  228,    0,    0,\n",
       "           0,    0,    0,    0],\n",
       "       [  75,    9,    3,  180,   42,   17,  767, 3034,    1,   22, 6003,\n",
       "         865,    2,  712,    8]], dtype=int64)>"
      ]
     },
     "execution_count": 49,
     "metadata": {},
     "output_type": "execute_result"
    }
   ],
   "source": [
    "proc_test = text_vectorizer(test_tweets)\n",
    "proc_test[:3]"
   ]
  },
  {
   "cell_type": "code",
   "execution_count": 50,
   "metadata": {},
   "outputs": [],
   "source": [
    "# test_x = []\n",
    "\n",
    "# for tweet in proc_test:\n",
    "#     bag = []\n",
    "#     for word in tweet:\n",
    "#         bag.append(int(word))\n",
    "#     test_x.append(bag)\n",
    "\n",
    "# test_x[:4]"
   ]
  },
  {
   "cell_type": "code",
   "execution_count": 51,
   "metadata": {},
   "outputs": [
    {
     "name": "stdout",
     "output_type": "stream",
     "text": [
      "84.0 % distress --> Just happened a terrible car crash\n",
      "54.0 % distress --> Heard about #earthquake is different cities, stay safe everyone.\n",
      "93.0 % distress --> there is a forest fire at spot pond, geese are fleeing across the street, I cannot save them all\n",
      "42.0 % distress --> Apocalypse lighting. #Spokane #wildfires\n",
      "98.0 % distress --> Typhoon Soudelor kills 28 in China and Taiwan\n",
      "88.0 % distress --> We're shaking...It's an earthquake\n",
      "8.0 % distress --> They'd probably still show more life than Arsenal did yesterday, eh? EH?\n",
      "11.0 % distress --> Hey! How are you?\n",
      "7.0 % distress --> What a nice hat?\n",
      "13.0 % distress --> Fuck off!\n",
      "9.0 % distress --> No I don't like cold!\n",
      "25.0 % distress --> NOOOOOOOOO! Don't do that!\n",
      "18.0 % distress --> No don't tell me that!\n",
      "15.0 % distress --> What if?!\n",
      "11.0 % distress --> Awesome!\n",
      "62.0 % distress --> Birmingham Wholesale Market is ablaze BBC News - Fire breaks out at Birmingham's Wholesale Market http://t.co/irWqCEZWEU\n",
      "16.0 % distress --> @sunkxssedharry will you wear shorts for race ablaze ?\n",
      "76.0 % distress --> #PreviouslyOnDoyinTv: Toke MakinwaÛªs marriage crisis sets Nigerian Twitter ablaze... http://t.co/CMghxBa2XI\n",
      "5.0 % distress --> Check these out: http://t.co/rOI2NSmEJJ http://t.co/3Tj8ZjiN21 http://t.co/YDUiXEfIpE http://t.co/LxTjc87KLS #nsfw\n",
      "11.0 % distress --> PSA: IÛªm splitting my personalities.\n",
      "\n",
      "?? techies follow @ablaze_co\n",
      "?? Burners follow @ablaze\n",
      "20.0 % distress --> beware world ablaze sierra leone &amp; guap.\n",
      "38.0 % distress --> Burning Man Ablaze! by Turban Diva http://t.co/hodWosAmWS via @Etsy\n",
      "23.0 % distress --> Not a diss song. People will take 1 thing and run with it. Smh it's an eye opener though. He is about 2 set the game ablaze @CyhiThePrynce\n",
      "97.0 % distress --> Rape victim dies as she sets herself ablaze: A 16-year-old girl died of burn injuries as she set herself ablazeÛ_ http://t.co/UK8hNrbOob\n",
      "17.0 % distress --> SETTING MYSELF ABLAZE http://t.co/6vMe7P5XhC\n",
      "69.0 % distress --> @CTVToronto the bins in front of the field by my house wer set ablaze the other day flames went rite up the hydro pole wonder if it was him\n",
      "15.0 % distress --> #nowplaying Alfons - Ablaze 2015 on Puls Radio #pulsradio http://t.co/aA5BJgWfDv\n",
      "23.0 % distress --> 'Burning Rahm': Let's hope City Hall builds a giant wooden mayoral effigy 100 feet tall &amp; sets it ablaze. http://t.co/kFo2mksn6Y @John_Kass\n",
      "8.0 % distress --> @PhilippaEilhart @DhuBlath hurt but her eyes ablaze with insulted anger.\n",
      "95.0 % distress --> Accident cleared in #PaTurnpike on PATP EB between PA-18 and Cranberry slow back to #traffic http://t.co/SL0Oqn0Vyr\n"
     ]
    }
   ],
   "source": [
    "predictions = model.predict(proc_test)\n",
    "\n",
    "for i in range(len(predictions)):\n",
    "    if i < 30:\n",
    "        print(f\"{predictions[i][0]//0.01} % distress --> {test_tweets[i]}\")"
   ]
  }
 ],
 "metadata": {
  "interpreter": {
   "hash": "cf6ab032c8d0f1ddf2ea4dd4e609e6e6dfd5e53c8a42a3a69958aaabf5715049"
  },
  "kernelspec": {
   "display_name": "Python 3.9.7 64-bit",
   "language": "python",
   "name": "python3"
  },
  "language_info": {
   "codemirror_mode": {
    "name": "ipython",
    "version": 3
   },
   "file_extension": ".py",
   "mimetype": "text/x-python",
   "name": "python",
   "nbconvert_exporter": "python",
   "pygments_lexer": "ipython3",
   "version": "3.9.7"
  },
  "orig_nbformat": 4
 },
 "nbformat": 4,
 "nbformat_minor": 2
}
