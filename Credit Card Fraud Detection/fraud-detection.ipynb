{
 "cells": [
  {
   "cell_type": "code",
   "execution_count": 1,
   "id": "690a406e",
   "metadata": {
    "execution": {
     "iopub.execute_input": "2022-01-10T15:08:38.158312Z",
     "iopub.status.busy": "2022-01-10T15:08:38.155845Z",
     "iopub.status.idle": "2022-01-10T15:08:42.268122Z",
     "shell.execute_reply": "2022-01-10T15:08:42.268639Z",
     "shell.execute_reply.started": "2022-01-10T14:54:10.982821Z"
    },
    "papermill": {
     "duration": 4.129856,
     "end_time": "2022-01-10T15:08:42.268924",
     "exception": false,
     "start_time": "2022-01-10T15:08:38.139068",
     "status": "completed"
    },
    "tags": []
   },
   "outputs": [
    {
     "name": "stdout",
     "output_type": "stream",
     "text": [
      "total entries --> 284807\n"
     ]
    },
    {
     "data": {
      "text/html": [
       "<div>\n",
       "<style scoped>\n",
       "    .dataframe tbody tr th:only-of-type {\n",
       "        vertical-align: middle;\n",
       "    }\n",
       "\n",
       "    .dataframe tbody tr th {\n",
       "        vertical-align: top;\n",
       "    }\n",
       "\n",
       "    .dataframe thead th {\n",
       "        text-align: right;\n",
       "    }\n",
       "</style>\n",
       "<table border=\"1\" class=\"dataframe\">\n",
       "  <thead>\n",
       "    <tr style=\"text-align: right;\">\n",
       "      <th></th>\n",
       "      <th>Time</th>\n",
       "      <th>V1</th>\n",
       "      <th>V2</th>\n",
       "      <th>V3</th>\n",
       "      <th>V4</th>\n",
       "      <th>V5</th>\n",
       "      <th>V6</th>\n",
       "      <th>V7</th>\n",
       "      <th>V8</th>\n",
       "      <th>V9</th>\n",
       "      <th>...</th>\n",
       "      <th>V21</th>\n",
       "      <th>V22</th>\n",
       "      <th>V23</th>\n",
       "      <th>V24</th>\n",
       "      <th>V25</th>\n",
       "      <th>V26</th>\n",
       "      <th>V27</th>\n",
       "      <th>V28</th>\n",
       "      <th>Amount</th>\n",
       "      <th>Class</th>\n",
       "    </tr>\n",
       "  </thead>\n",
       "  <tbody>\n",
       "    <tr>\n",
       "      <th>0</th>\n",
       "      <td>0.0</td>\n",
       "      <td>-1.359807</td>\n",
       "      <td>-0.072781</td>\n",
       "      <td>2.536347</td>\n",
       "      <td>1.378155</td>\n",
       "      <td>-0.338321</td>\n",
       "      <td>0.462388</td>\n",
       "      <td>0.239599</td>\n",
       "      <td>0.098698</td>\n",
       "      <td>0.363787</td>\n",
       "      <td>...</td>\n",
       "      <td>-0.018307</td>\n",
       "      <td>0.277838</td>\n",
       "      <td>-0.110474</td>\n",
       "      <td>0.066928</td>\n",
       "      <td>0.128539</td>\n",
       "      <td>-0.189115</td>\n",
       "      <td>0.133558</td>\n",
       "      <td>-0.021053</td>\n",
       "      <td>149.62</td>\n",
       "      <td>0</td>\n",
       "    </tr>\n",
       "    <tr>\n",
       "      <th>1</th>\n",
       "      <td>0.0</td>\n",
       "      <td>1.191857</td>\n",
       "      <td>0.266151</td>\n",
       "      <td>0.166480</td>\n",
       "      <td>0.448154</td>\n",
       "      <td>0.060018</td>\n",
       "      <td>-0.082361</td>\n",
       "      <td>-0.078803</td>\n",
       "      <td>0.085102</td>\n",
       "      <td>-0.255425</td>\n",
       "      <td>...</td>\n",
       "      <td>-0.225775</td>\n",
       "      <td>-0.638672</td>\n",
       "      <td>0.101288</td>\n",
       "      <td>-0.339846</td>\n",
       "      <td>0.167170</td>\n",
       "      <td>0.125895</td>\n",
       "      <td>-0.008983</td>\n",
       "      <td>0.014724</td>\n",
       "      <td>2.69</td>\n",
       "      <td>0</td>\n",
       "    </tr>\n",
       "    <tr>\n",
       "      <th>2</th>\n",
       "      <td>1.0</td>\n",
       "      <td>-1.358354</td>\n",
       "      <td>-1.340163</td>\n",
       "      <td>1.773209</td>\n",
       "      <td>0.379780</td>\n",
       "      <td>-0.503198</td>\n",
       "      <td>1.800499</td>\n",
       "      <td>0.791461</td>\n",
       "      <td>0.247676</td>\n",
       "      <td>-1.514654</td>\n",
       "      <td>...</td>\n",
       "      <td>0.247998</td>\n",
       "      <td>0.771679</td>\n",
       "      <td>0.909412</td>\n",
       "      <td>-0.689281</td>\n",
       "      <td>-0.327642</td>\n",
       "      <td>-0.139097</td>\n",
       "      <td>-0.055353</td>\n",
       "      <td>-0.059752</td>\n",
       "      <td>378.66</td>\n",
       "      <td>0</td>\n",
       "    </tr>\n",
       "    <tr>\n",
       "      <th>3</th>\n",
       "      <td>1.0</td>\n",
       "      <td>-0.966272</td>\n",
       "      <td>-0.185226</td>\n",
       "      <td>1.792993</td>\n",
       "      <td>-0.863291</td>\n",
       "      <td>-0.010309</td>\n",
       "      <td>1.247203</td>\n",
       "      <td>0.237609</td>\n",
       "      <td>0.377436</td>\n",
       "      <td>-1.387024</td>\n",
       "      <td>...</td>\n",
       "      <td>-0.108300</td>\n",
       "      <td>0.005274</td>\n",
       "      <td>-0.190321</td>\n",
       "      <td>-1.175575</td>\n",
       "      <td>0.647376</td>\n",
       "      <td>-0.221929</td>\n",
       "      <td>0.062723</td>\n",
       "      <td>0.061458</td>\n",
       "      <td>123.50</td>\n",
       "      <td>0</td>\n",
       "    </tr>\n",
       "    <tr>\n",
       "      <th>4</th>\n",
       "      <td>2.0</td>\n",
       "      <td>-1.158233</td>\n",
       "      <td>0.877737</td>\n",
       "      <td>1.548718</td>\n",
       "      <td>0.403034</td>\n",
       "      <td>-0.407193</td>\n",
       "      <td>0.095921</td>\n",
       "      <td>0.592941</td>\n",
       "      <td>-0.270533</td>\n",
       "      <td>0.817739</td>\n",
       "      <td>...</td>\n",
       "      <td>-0.009431</td>\n",
       "      <td>0.798278</td>\n",
       "      <td>-0.137458</td>\n",
       "      <td>0.141267</td>\n",
       "      <td>-0.206010</td>\n",
       "      <td>0.502292</td>\n",
       "      <td>0.219422</td>\n",
       "      <td>0.215153</td>\n",
       "      <td>69.99</td>\n",
       "      <td>0</td>\n",
       "    </tr>\n",
       "  </tbody>\n",
       "</table>\n",
       "<p>5 rows × 31 columns</p>\n",
       "</div>"
      ],
      "text/plain": [
       "   Time        V1        V2        V3        V4        V5        V6        V7  \\\n",
       "0   0.0 -1.359807 -0.072781  2.536347  1.378155 -0.338321  0.462388  0.239599   \n",
       "1   0.0  1.191857  0.266151  0.166480  0.448154  0.060018 -0.082361 -0.078803   \n",
       "2   1.0 -1.358354 -1.340163  1.773209  0.379780 -0.503198  1.800499  0.791461   \n",
       "3   1.0 -0.966272 -0.185226  1.792993 -0.863291 -0.010309  1.247203  0.237609   \n",
       "4   2.0 -1.158233  0.877737  1.548718  0.403034 -0.407193  0.095921  0.592941   \n",
       "\n",
       "         V8        V9  ...       V21       V22       V23       V24       V25  \\\n",
       "0  0.098698  0.363787  ... -0.018307  0.277838 -0.110474  0.066928  0.128539   \n",
       "1  0.085102 -0.255425  ... -0.225775 -0.638672  0.101288 -0.339846  0.167170   \n",
       "2  0.247676 -1.514654  ...  0.247998  0.771679  0.909412 -0.689281 -0.327642   \n",
       "3  0.377436 -1.387024  ... -0.108300  0.005274 -0.190321 -1.175575  0.647376   \n",
       "4 -0.270533  0.817739  ... -0.009431  0.798278 -0.137458  0.141267 -0.206010   \n",
       "\n",
       "        V26       V27       V28  Amount  Class  \n",
       "0 -0.189115  0.133558 -0.021053  149.62      0  \n",
       "1  0.125895 -0.008983  0.014724    2.69      0  \n",
       "2 -0.139097 -0.055353 -0.059752  378.66      0  \n",
       "3 -0.221929  0.062723  0.061458  123.50      0  \n",
       "4  0.502292  0.219422  0.215153   69.99      0  \n",
       "\n",
       "[5 rows x 31 columns]"
      ]
     },
     "execution_count": 1,
     "metadata": {},
     "output_type": "execute_result"
    }
   ],
   "source": [
    "import pandas as pd\n",
    "\n",
    "df = pd.read_csv('../input/creditcardfraud/creditcard.csv')\n",
    "print(f\"total entries --> {len(df['V1'])}\")\n",
    "df.head()"
   ]
  },
  {
   "cell_type": "code",
   "execution_count": 2,
   "id": "495e0f36",
   "metadata": {
    "execution": {
     "iopub.execute_input": "2022-01-10T15:08:42.795812Z",
     "iopub.status.busy": "2022-01-10T15:08:42.521050Z",
     "iopub.status.idle": "2022-01-10T15:08:45.850914Z",
     "shell.execute_reply": "2022-01-10T15:08:45.850373Z",
     "shell.execute_reply.started": "2022-01-10T14:54:15.369753Z"
    },
    "papermill": {
     "duration": 3.573426,
     "end_time": "2022-01-10T15:08:45.851065",
     "exception": false,
     "start_time": "2022-01-10T15:08:42.277639",
     "status": "completed"
    },
    "tags": []
   },
   "outputs": [
    {
     "name": "stdout",
     "output_type": "stream",
     "text": [
      "[-1.3598071336738, -0.0727811733098497, 2.53634673796914, 1.37815522427443, -0.338320769942518, 0.462387777762292, 0.239598554061257, 0.0986979012610507, 0.363786969611213, 0.0907941719789316, -0.551599533260813, -0.617800855762348, -0.991389847235408, -0.311169353699879, 1.46817697209427, -0.470400525259478, 0.207971241929242, 0.0257905801985591, 0.403992960255733, 0.251412098239705, -0.018306777944153, 0.277837575558899, -0.110473910188767, 0.0669280749146731, 0.128539358273528, -0.189114843888824, 0.133558376740387, -0.0210530534538215]\n",
      "[1.19185711131486, 0.26615071205963, 0.16648011335321, 0.448154078460911, 0.0600176492822243, -0.0823608088155687, -0.0788029833323113, 0.0851016549148104, -0.255425128109186, -0.166974414004614, 1.61272666105479, 1.06523531137287, 0.48909501589608, -0.143772296441519, 0.635558093258208, 0.463917041022171, -0.114804663102346, -0.183361270123994, -0.145783041325259, -0.0690831352230203, -0.225775248033138, -0.638671952771851, 0.101288021253234, -0.339846475529127, 0.167170404418143, 0.125894532368176, -0.0089830991432281, 0.0147241691924927]\n",
      "[-1.35835406159823, -1.34016307473609, 1.77320934263119, 0.379779593034328, -0.503198133318193, 1.80049938079263, 0.791460956450422, 0.247675786588991, -1.51465432260583, 0.207642865216696, 0.624501459424895, 0.066083685268831, 0.717292731410831, -0.165945922763554, 2.34586494901581, -2.89008319444231, 1.10996937869599, -0.121359313195888, -2.26185709530414, 0.524979725224404, 0.247998153469754, 0.771679401917229, 0.909412262347719, -0.689280956490685, -0.327641833735251, -0.139096571514147, -0.0553527940384261, -0.0597518405929204]\n"
     ]
    }
   ],
   "source": [
    "v1 = list(df['V1'])\n",
    "v2 = list(df['V2'])\n",
    "v3 = list(df['V3'])\n",
    "v4 = list(df['V4'])\n",
    "v5 = list(df['V5'])\n",
    "v6 = list(df['V6'])\n",
    "v7 = list(df['V7'])\n",
    "v8 = list(df['V8'])\n",
    "v9 = list(df['V9'])\n",
    "v10 = list(df['V10'])\n",
    "v11 = list(df['V11'])\n",
    "v12 = list(df['V12'])\n",
    "v13 = list(df['V13'])\n",
    "v14 = list(df['V14'])\n",
    "v15 = list(df['V15'])\n",
    "v16 = list(df['V16'])\n",
    "v17 = list(df['V17'])\n",
    "v18 = list(df['V18'])\n",
    "v19 = list(df['V19'])\n",
    "v20 = list(df['V20'])\n",
    "v21 = list(df['V21'])\n",
    "v22 = list(df['V22'])\n",
    "v23 = list(df['V23'])\n",
    "v24 = list(df['V24'])\n",
    "v25 = list(df['V25'])\n",
    "v26 = list(df['V26'])\n",
    "v27 = list(df['V27'])\n",
    "v28 = list(df['V28'])\n",
    "    \n",
    "v_features = []    \n",
    "\n",
    "for i in range( len(df['V1']) ):   # 284,807\n",
    "    temp = [\n",
    "        v1[i], v2[i], v3[i], v4[i], v5[i], v6[i], v7[i], v8[i], v9[i], v10[i],\n",
    "        v11[i], v12[i], v13[i], v14[i], v15[i], v16[i], v17[i], v18[i], v19[i], v20[i],\n",
    "        v21[i], v22[i], v23[i], v24[i], v25[i], v26[i], v27[i], v28[i]\n",
    "    ]\n",
    "    v_features.append(temp)\n",
    "    if i < 3:\n",
    "        print(temp)"
   ]
  },
  {
   "cell_type": "code",
   "execution_count": 3,
   "id": "e097126b",
   "metadata": {
    "execution": {
     "iopub.execute_input": "2022-01-10T15:08:45.969854Z",
     "iopub.status.busy": "2022-01-10T15:08:45.969147Z",
     "iopub.status.idle": "2022-01-10T15:08:47.480072Z",
     "shell.execute_reply": "2022-01-10T15:08:47.479394Z",
     "shell.execute_reply.started": "2022-01-10T14:54:19.015326Z"
    },
    "papermill": {
     "duration": 1.620598,
     "end_time": "2022-01-10T15:08:47.480247",
     "exception": false,
     "start_time": "2022-01-10T15:08:45.859649",
     "status": "completed"
    },
    "tags": []
   },
   "outputs": [
    {
     "name": "stdout",
     "output_type": "stream",
     "text": [
      "[149.62, -1.3598071336738, -0.0727811733098497, 2.53634673796914, 1.37815522427443, -0.338320769942518, 0.462387777762292, 0.239598554061257, 0.0986979012610507, 0.363786969611213, 0.0907941719789316, -0.551599533260813, -0.617800855762348, -0.991389847235408, -0.311169353699879, 1.46817697209427, -0.470400525259478, 0.207971241929242, 0.0257905801985591, 0.403992960255733, 0.251412098239705, -0.018306777944153, 0.277837575558899, -0.110473910188767, 0.0669280749146731, 0.128539358273528, -0.189114843888824, 0.133558376740387, -0.0210530534538215]\n",
      "[2.69, 1.19185711131486, 0.26615071205963, 0.16648011335321, 0.448154078460911, 0.0600176492822243, -0.0823608088155687, -0.0788029833323113, 0.0851016549148104, -0.255425128109186, -0.166974414004614, 1.61272666105479, 1.06523531137287, 0.48909501589608, -0.143772296441519, 0.635558093258208, 0.463917041022171, -0.114804663102346, -0.183361270123994, -0.145783041325259, -0.0690831352230203, -0.225775248033138, -0.638671952771851, 0.101288021253234, -0.339846475529127, 0.167170404418143, 0.125894532368176, -0.0089830991432281, 0.0147241691924927]\n",
      "[378.66, -1.35835406159823, -1.34016307473609, 1.77320934263119, 0.379779593034328, -0.503198133318193, 1.80049938079263, 0.791460956450422, 0.247675786588991, -1.51465432260583, 0.207642865216696, 0.624501459424895, 0.066083685268831, 0.717292731410831, -0.165945922763554, 2.34586494901581, -2.89008319444231, 1.10996937869599, -0.121359313195888, -2.26185709530414, 0.524979725224404, 0.247998153469754, 0.771679401917229, 0.909412262347719, -0.689280956490685, -0.327641833735251, -0.139096571514147, -0.0553527940384261, -0.0597518405929204]\n"
     ]
    }
   ],
   "source": [
    "amount = list(df['Amount'])\n",
    "bin_class = list(df['Class'])\n",
    "\n",
    "features = []\n",
    "labels = []\n",
    "\n",
    "for i in range( len(v_features) ):\n",
    "    temp = [\n",
    "        amount[i]\n",
    "    ]\n",
    "    temp.extend(v_features[i])\n",
    "    features.append(temp)\n",
    "    labels.append(bin_class[i])\n",
    "    \n",
    "    if i < 3:\n",
    "        print(temp)"
   ]
  },
  {
   "cell_type": "code",
   "execution_count": 4,
   "id": "2c9377af",
   "metadata": {
    "execution": {
     "iopub.execute_input": "2022-01-10T15:08:49.124897Z",
     "iopub.status.busy": "2022-01-10T15:08:49.124197Z",
     "iopub.status.idle": "2022-01-10T15:08:49.127933Z",
     "shell.execute_reply": "2022-01-10T15:08:49.127401Z",
     "shell.execute_reply.started": "2022-01-10T14:54:21.087002Z"
    },
    "papermill": {
     "duration": 1.638072,
     "end_time": "2022-01-10T15:08:49.128071",
     "exception": false,
     "start_time": "2022-01-10T15:08:47.489999",
     "status": "completed"
    },
    "tags": []
   },
   "outputs": [
    {
     "name": "stdout",
     "output_type": "stream",
     "text": [
      "(284807, 29)\n",
      "(284807,)\n"
     ]
    }
   ],
   "source": [
    "import numpy as np\n",
    "\n",
    "features = np.array(features)\n",
    "print(features.shape)\n",
    "\n",
    "labels = np.array(labels)\n",
    "print(labels.shape)"
   ]
  },
  {
   "cell_type": "code",
   "execution_count": 5,
   "id": "7f4658a2",
   "metadata": {
    "execution": {
     "iopub.execute_input": "2022-01-10T15:08:49.153889Z",
     "iopub.status.busy": "2022-01-10T15:08:49.153218Z",
     "iopub.status.idle": "2022-01-10T15:08:55.655506Z",
     "shell.execute_reply": "2022-01-10T15:08:55.655998Z",
     "shell.execute_reply.started": "2022-01-10T15:01:40.067427Z"
    },
    "papermill": {
     "duration": 6.518937,
     "end_time": "2022-01-10T15:08:55.656165",
     "exception": false,
     "start_time": "2022-01-10T15:08:49.137228",
     "status": "completed"
    },
    "tags": []
   },
   "outputs": [
    {
     "name": "stdout",
     "output_type": "stream",
     "text": [
      "Model: \"sequential\"\n",
      "_________________________________________________________________\n",
      "Layer (type)                 Output Shape              Param #   \n",
      "=================================================================\n",
      "dense (Dense)                (None, 256)               7680      \n",
      "_________________________________________________________________\n",
      "dense_1 (Dense)              (None, 128)               32896     \n",
      "_________________________________________________________________\n",
      "dense_2 (Dense)              (None, 64)                8256      \n",
      "_________________________________________________________________\n",
      "dense_3 (Dense)              (None, 1)                 65        \n",
      "=================================================================\n",
      "Total params: 48,897\n",
      "Trainable params: 48,897\n",
      "Non-trainable params: 0\n",
      "_________________________________________________________________\n"
     ]
    },
    {
     "name": "stderr",
     "output_type": "stream",
     "text": [
      "\n",
      "User settings:\n",
      "\n",
      "   KMP_AFFINITY=granularity=fine,verbose,compact,1,0\n",
      "   KMP_BLOCKTIME=0\n",
      "   KMP_SETTINGS=1\n",
      "   KMP_WARNINGS=0\n",
      "\n",
      "Effective settings:\n",
      "\n",
      "   KMP_ABORT_DELAY=0\n",
      "   KMP_ADAPTIVE_LOCK_PROPS='1,1024'\n",
      "   KMP_ALIGN_ALLOC=64\n",
      "   KMP_ALL_THREADPRIVATE=128\n",
      "   KMP_ATOMIC_MODE=2\n",
      "   KMP_BLOCKTIME=0\n",
      "   KMP_CPUINFO_FILE: value is not defined\n",
      "   KMP_DETERMINISTIC_REDUCTION=false\n",
      "   KMP_DEVICE_THREAD_LIMIT=2147483647\n",
      "   KMP_DISP_NUM_BUFFERS=7\n",
      "   KMP_DUPLICATE_LIB_OK=false\n",
      "   KMP_ENABLE_TASK_THROTTLING=true\n",
      "   KMP_FORCE_REDUCTION: value is not defined\n",
      "   KMP_FOREIGN_THREADS_THREADPRIVATE=true\n",
      "   KMP_FORKJOIN_BARRIER='2,2'\n",
      "   KMP_FORKJOIN_BARRIER_PATTERN='hyper,hyper'\n",
      "   KMP_GTID_MODE=3\n",
      "   KMP_HANDLE_SIGNALS=false\n",
      "   KMP_HOT_TEAMS_MAX_LEVEL=1\n",
      "   KMP_HOT_TEAMS_MODE=0\n",
      "   KMP_INIT_AT_FORK=true\n",
      "   KMP_LIBRARY=throughput\n",
      "   KMP_LOCK_KIND=queuing\n",
      "   KMP_MALLOC_POOL_INCR=1M\n",
      "   KMP_NUM_LOCKS_IN_BLOCK=1\n",
      "   KMP_PLAIN_BARRIER='2,2'\n",
      "   KMP_PLAIN_BARRIER_PATTERN='hyper,hyper'\n",
      "   KMP_REDUCTION_BARRIER='1,1'\n",
      "   KMP_REDUCTION_BARRIER_PATTERN='hyper,hyper'\n",
      "   KMP_SCHEDULE='static,balanced;guided,iterative'\n",
      "   KMP_SETTINGS=true\n",
      "   KMP_SPIN_BACKOFF_PARAMS='4096,100'\n",
      "   KMP_STACKOFFSET=64\n",
      "   KMP_STACKPAD=0\n",
      "   KMP_STACKSIZE=8M\n",
      "   KMP_STORAGE_MAP=false\n",
      "   KMP_TASKING=2\n",
      "   KMP_TASKLOOP_MIN_TASKS=0\n",
      "   KMP_TASK_STEALING_CONSTRAINT=1\n",
      "   KMP_TEAMS_THREAD_LIMIT=4\n",
      "   KMP_TOPOLOGY_METHOD=all\n",
      "   KMP_USE_YIELD=1\n",
      "   KMP_VERSION=false\n",
      "   KMP_WARNINGS=false\n",
      "   OMP_AFFINITY_FORMAT='OMP: pid %P tid %i thread %n bound to OS proc set {%A}'\n",
      "   OMP_ALLOCATOR=omp_default_mem_alloc\n",
      "   OMP_CANCELLATION=false\n",
      "   OMP_DEFAULT_DEVICE=0\n",
      "   OMP_DISPLAY_AFFINITY=false\n",
      "   OMP_DISPLAY_ENV=false\n",
      "   OMP_DYNAMIC=false\n",
      "   OMP_MAX_ACTIVE_LEVELS=1\n",
      "   OMP_MAX_TASK_PRIORITY=0\n",
      "   OMP_NESTED: deprecated; max-active-levels-var=1\n",
      "   OMP_NUM_THREADS: value is not defined\n",
      "   OMP_PLACES: value is not defined\n",
      "   OMP_PROC_BIND='intel'\n",
      "   OMP_SCHEDULE='static'\n",
      "   OMP_STACKSIZE=8M\n",
      "   OMP_TARGET_OFFLOAD=DEFAULT\n",
      "   OMP_THREAD_LIMIT=2147483647\n",
      "   OMP_WAIT_POLICY=PASSIVE\n",
      "   KMP_AFFINITY='verbose,warnings,respect,granularity=fine,compact,1,0'\n",
      "\n",
      "2022-01-10 15:08:55.557319: I tensorflow/core/common_runtime/process_util.cc:146] Creating new thread pool with default inter op setting: 2. Tune using inter_op_parallelism_threads for best performance.\n"
     ]
    }
   ],
   "source": [
    "import tensorflow as tf\n",
    "from tensorflow.keras import layers\n",
    "\n",
    "model = tf.keras.models.Sequential([\n",
    "    \n",
    "    layers.Dense(256, input_shape=features.shape[1:], activation='relu'),\n",
    "#     layers.Dropout(0.2),\n",
    "    \n",
    "    layers.Dense(128, activation='relu'),\n",
    "#     layers.Dropout(0.2),\n",
    "    \n",
    "    layers.Dense(64, activation='relu'),\n",
    "#     layers.Dropout(0.2),\n",
    "    \n",
    "    layers.Dense(1, activation='sigmoid')\n",
    "    \n",
    "])\n",
    "\n",
    "model.compile(\n",
    "    loss='binary_crossentropy',\n",
    "    optimizer='adam',\n",
    "    metrics=['accuracy']\n",
    ")\n",
    "\n",
    "model.summary()"
   ]
  },
  {
   "cell_type": "code",
   "execution_count": 6,
   "id": "176a04da",
   "metadata": {
    "execution": {
     "iopub.execute_input": "2022-01-10T15:08:55.679737Z",
     "iopub.status.busy": "2022-01-10T15:08:55.679060Z",
     "iopub.status.idle": "2022-01-10T15:10:26.387361Z",
     "shell.execute_reply": "2022-01-10T15:10:26.386787Z",
     "shell.execute_reply.started": "2022-01-10T15:01:45.358826Z"
    },
    "papermill": {
     "duration": 90.721416,
     "end_time": "2022-01-10T15:10:26.387533",
     "exception": false,
     "start_time": "2022-01-10T15:08:55.666117",
     "status": "completed"
    },
    "tags": []
   },
   "outputs": [
    {
     "name": "stdout",
     "output_type": "stream",
     "text": [
      "train_size : 227845\n",
      "Epoch 1/4\n"
     ]
    },
    {
     "name": "stderr",
     "output_type": "stream",
     "text": [
      "2022-01-10 15:08:55.795123: I tensorflow/compiler/mlir/mlir_graph_optimization_pass.cc:185] None of the MLIR Optimization Passes are enabled (registered 2)\n"
     ]
    },
    {
     "name": "stdout",
     "output_type": "stream",
     "text": [
      "7121/7121 [==============================] - 23s 3ms/step - loss: 0.0206 - accuracy: 0.9986 - val_loss: 0.0584 - val_accuracy: 0.9993\n",
      "Epoch 2/4\n",
      "7121/7121 [==============================] - 22s 3ms/step - loss: 0.0091 - accuracy: 0.9992 - val_loss: 0.0074 - val_accuracy: 0.9994\n",
      "Epoch 3/4\n",
      "7121/7121 [==============================] - 23s 3ms/step - loss: 0.0077 - accuracy: 0.9992 - val_loss: 0.0055 - val_accuracy: 0.9996\n",
      "Epoch 4/4\n",
      "7121/7121 [==============================] - 23s 3ms/step - loss: 0.0064 - accuracy: 0.9991 - val_loss: 0.0048 - val_accuracy: 0.9995\n"
     ]
    }
   ],
   "source": [
    "split = 0.2\n",
    "\n",
    "train_size = int((len(labels) * (1.0-split))//1)\n",
    "print(\"train_size :\", train_size)\n",
    "\n",
    "history = model.fit(\n",
    "    features[:train_size], labels[:train_size],\n",
    "    epochs=4,\n",
    "    validation_data=(features[train_size:], labels[train_size:])\n",
    ")"
   ]
  },
  {
   "cell_type": "code",
   "execution_count": 7,
   "id": "003f4e40",
   "metadata": {
    "execution": {
     "iopub.execute_input": "2022-01-10T15:10:27.396450Z",
     "iopub.status.busy": "2022-01-10T15:10:27.393383Z",
     "iopub.status.idle": "2022-01-10T15:10:30.290397Z",
     "shell.execute_reply": "2022-01-10T15:10:30.289813Z",
     "shell.execute_reply.started": "2022-01-10T15:05:12.004628Z"
    },
    "papermill": {
     "duration": 3.418357,
     "end_time": "2022-01-10T15:10:30.290575",
     "exception": false,
     "start_time": "2022-01-10T15:10:26.872218",
     "status": "completed"
    },
    "tags": []
   },
   "outputs": [
    {
     "name": "stdout",
     "output_type": "stream",
     "text": [
      "48 hits, 27 misses\n",
      "accuracy : 64.0 %\n"
     ]
    }
   ],
   "source": [
    "pred = model.predict( features[train_size:] )\n",
    "\n",
    "hits = 0\n",
    "miss = 0\n",
    "for i in range( len(pred) ):\n",
    "    perc = (pred[i][0]*100)//1\n",
    "    if labels[train_size:][i] == 1:\n",
    "        if perc > 50: hits = hits + 1\n",
    "        else: miss = miss + 1\n",
    "            \n",
    "#         print(f\"index : {i} \\t pred : {perc} \\t ans : {labels[train_size:][i]}\")\n",
    "        \n",
    "print(f\"{hits} hits, {miss} misses\")\n",
    "print(\"accuracy :\", ((hits/(hits+miss))*100)//1.00, \"%\")"
   ]
  }
 ],
 "metadata": {
  "kernelspec": {
   "display_name": "Python 3",
   "language": "python",
   "name": "python3"
  },
  "language_info": {
   "codemirror_mode": {
    "name": "ipython",
    "version": 3
   },
   "file_extension": ".py",
   "mimetype": "text/x-python",
   "name": "python",
   "nbconvert_exporter": "python",
   "pygments_lexer": "ipython3",
   "version": "3.7.12"
  },
  "papermill": {
   "default_parameters": {},
   "duration": 125.7688,
   "end_time": "2022-01-10T15:10:33.672865",
   "environment_variables": {},
   "exception": null,
   "input_path": "__notebook__.ipynb",
   "output_path": "__notebook__.ipynb",
   "parameters": {},
   "start_time": "2022-01-10T15:08:27.904065",
   "version": "2.3.3"
  }
 },
 "nbformat": 4,
 "nbformat_minor": 5
}
