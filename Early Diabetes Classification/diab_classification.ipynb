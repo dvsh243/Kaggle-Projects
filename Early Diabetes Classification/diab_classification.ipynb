{
 "cells": [
  {
   "cell_type": "code",
   "execution_count": 6,
   "metadata": {},
   "outputs": [
    {
     "name": "stdout",
     "output_type": "stream",
     "text": [
      "total rows : 520\n",
      "['age;gender;polyuria;polydipsia;sudden_weight_loss;weakness;polyphagia;genital_thrush;visual_blurring;itching;irritability;delayed_healing;partial_paresis;muscle_stiffness;alopecia;obesity;class\\n', '40;Male;0;1;0;1;0;0;0;1;0;1;0;1;1;1;1\\n', '58;Male;0;0;0;1;0;0;1;0;0;0;1;0;1;0;1\\n', '41;Male;1;0;0;1;1;0;0;1;0;1;0;1;1;0;1\\n', '45;Male;0;0;1;1;1;1;0;1;0;1;0;0;0;0;1\\n']\n"
     ]
    }
   ],
   "source": [
    "with open('diabetes_data.csv') as f:\n",
    "    df = f.readlines()\n",
    "\n",
    "print(f\"total rows : {len(df)-1}\")\n",
    "print(df[:5])"
   ]
  },
  {
   "cell_type": "code",
   "execution_count": 18,
   "metadata": {},
   "outputs": [
    {
     "name": "stdout",
     "output_type": "stream",
     "text": [
      "['age', 'gender', 'polyuria', 'polydipsia', 'sudden_weight_loss', 'weakness', 'polyphagia', 'genital_thrush', 'visual_blurring', 'itching', 'irritability', 'delayed_healing', 'partial_paresis', 'muscle_stiffness', 'alopecia', 'obesity', 'class\\n']\n",
      "\n",
      "[['40', 'Male', '0', '1', '0', '1', '0', '0', '0', '1', '0', '1', '0', '1', '1', '1', '1'], ['58', 'Male', '0', '0', '0', '1', '0', '0', '1', '0', '0', '0', '1', '0', '1', '0', '1'], ['41', 'Male', '1', '0', '0', '1', '1', '0', '0', '1', '0', '1', '0', '1', '1', '0', '1'], ['45', 'Male', '0', '0', '1', '1', '1', '1', '0', '1', '0', '1', '0', '0', '0', '0', '1'], ['60', 'Male', '1', '1', '1', '1', '1', '0', '1', '1', '1', '1', '1', '1', '1', '1', '1']]\n"
     ]
    }
   ],
   "source": [
    "print( df[0].split(';'), end='\\n\\n' )\n",
    "\n",
    "new_df = []\n",
    "\n",
    "for i in range(1, len(df)):\n",
    "    row = df[i]\n",
    "    row = row.replace('\\n','')\n",
    "    temp = row.split(';')\n",
    "    new_df.append(temp)\n",
    "\n",
    "print(new_df[:5])"
   ]
  },
  {
   "cell_type": "code",
   "execution_count": 16,
   "metadata": {},
   "outputs": [
    {
     "name": "stdout",
     "output_type": "stream",
     "text": [
      "['age', 'gender', 'polyuria', 'polydipsia', 'sudden_weight_loss', 'weakness', 'polyphagia', 'genital_thrush', 'visual_blurring', 'itching', 'irritability', 'delayed_healing', 'partial_paresis', 'muscle_stiffness', 'alopecia', 'obesity', 'class\\n']\n"
     ]
    }
   ],
   "source": []
  },
  {
   "cell_type": "code",
   "execution_count": 38,
   "metadata": {},
   "outputs": [
    {
     "name": "stdout",
     "output_type": "stream",
     "text": [
      "18 [40, 0, 1, 0, 1, 0, 0, 0, 1, 0, 1, 0, 1, 1, 1, 1, 0, 1]\n",
      "18 [58, 0, 0, 0, 1, 0, 0, 1, 0, 0, 0, 1, 0, 1, 0, 1, 0, 1]\n",
      "18 [41, 1, 0, 0, 1, 1, 0, 0, 1, 0, 1, 0, 1, 1, 0, 1, 0, 1]\n",
      "18 [45, 0, 0, 1, 1, 1, 1, 0, 1, 0, 1, 0, 0, 0, 0, 1, 0, 1]\n",
      "18 [60, 1, 1, 1, 1, 1, 0, 1, 1, 1, 1, 1, 1, 1, 1, 1, 0, 1]\n"
     ]
    }
   ],
   "source": [
    "train_df = []\n",
    "\n",
    "for i in range(len(new_df)):  # 520\n",
    "\n",
    "    cat_sex = [0] * 2\n",
    "    if new_df[i][1] == \"Male\":\n",
    "        cat_sex[0] = 1\n",
    "    else:\n",
    "        cat_sex[1] = 1\n",
    "    \n",
    "    temp = [\n",
    "        int(new_df[i][0]), int(new_df[i][2]), int(new_df[i][3]), int(new_df[i][4]), int(new_df[i][5]), int(new_df[i][6]),\n",
    "        int(new_df[i][7]), int(new_df[i][8]), int(new_df[i][9]), int(new_df[i][10]), int(new_df[i][11]), int(new_df[i][12]),\n",
    "        int(new_df[i][13]), int(new_df[i][14]), int(new_df[i][15])\n",
    "    ]\n",
    "    temp.extend(cat_sex)\n",
    "    temp.append(int(new_df[i][16]))\n",
    "\n",
    "    train_df.append(temp)\n",
    "    \n",
    "    if i<5:\n",
    "        print(len(temp), temp)"
   ]
  },
  {
   "cell_type": "code",
   "execution_count": 62,
   "metadata": {},
   "outputs": [
    {
     "name": "stdout",
     "output_type": "stream",
     "text": [
      "[[40, 0, 1, 0, 1, 0, 0, 0, 1, 0, 1, 0, 1, 1, 1, 1, 0]] [1]\n",
      "[[58, 0, 0, 0, 1, 0, 0, 1, 0, 0, 0, 1, 0, 1, 0, 1, 0]] [1]\n",
      "[[41, 1, 0, 0, 1, 1, 0, 0, 1, 0, 1, 0, 1, 1, 0, 1, 0]] [1]\n",
      "[[45, 0, 0, 1, 1, 1, 1, 0, 1, 0, 1, 0, 0, 0, 0, 1, 0]] [1]\n",
      "[[60, 1, 1, 1, 1, 1, 0, 1, 1, 1, 1, 1, 1, 1, 1, 1, 0]] [1]\n"
     ]
    }
   ],
   "source": [
    "train_x = []\n",
    "train_y = []\n",
    "\n",
    "for i in range(len(train_df)):\n",
    "    temp_x = []\n",
    "    temp_y = []\n",
    "\n",
    "    temp_y.append(train_df[i][-1])\n",
    "    temp_x.append(train_df[i][:-1])\n",
    "\n",
    "    train_x.append(temp_x[0])\n",
    "    train_y.append(temp_y[0])\n",
    "\n",
    "    if i<5:\n",
    "        print(temp_x, temp_y)\n"
   ]
  },
  {
   "cell_type": "code",
   "execution_count": 64,
   "metadata": {},
   "outputs": [
    {
     "name": "stdout",
     "output_type": "stream",
     "text": [
      "(520, 17)\n",
      "[[40  0  1  0  1  0  0  0  1  0  1  0  1  1  1  1  0]\n",
      " [58  0  0  0  1  0  0  1  0  0  0  1  0  1  0  1  0]\n",
      " [41  1  0  0  1  1  0  0  1  0  1  0  1  1  0  1  0]\n",
      " [45  0  0  1  1  1  1  0  1  0  1  0  0  0  0  1  0]]\n",
      "\n",
      "(520,)\n",
      "[1 1 1 1]\n"
     ]
    }
   ],
   "source": [
    "import numpy as np\n",
    "\n",
    "train_x, train_y = np.array(train_x), np.array(train_y)\n",
    "\n",
    "print(train_x.shape)\n",
    "print(train_x[:4], end='\\n\\n')\n",
    "print(train_y.shape)\n",
    "print(train_y[:4])"
   ]
  },
  {
   "cell_type": "code",
   "execution_count": 66,
   "metadata": {},
   "outputs": [
    {
     "data": {
      "text/plain": [
       "(17,)"
      ]
     },
     "execution_count": 66,
     "metadata": {},
     "output_type": "execute_result"
    }
   ],
   "source": []
  },
  {
   "cell_type": "code",
   "execution_count": 71,
   "metadata": {},
   "outputs": [
    {
     "name": "stdout",
     "output_type": "stream",
     "text": [
      "Model: \"sequential_2\"\n",
      "_________________________________________________________________\n",
      " Layer (type)                Output Shape              Param #   \n",
      "=================================================================\n",
      " dense_6 (Dense)             (None, 64)                1152      \n",
      "                                                                 \n",
      " dense_7 (Dense)             (None, 32)                2080      \n",
      "                                                                 \n",
      " dense_8 (Dense)             (None, 1)                 33        \n",
      "                                                                 \n",
      "=================================================================\n",
      "Total params: 3,265\n",
      "Trainable params: 3,265\n",
      "Non-trainable params: 0\n",
      "_________________________________________________________________\n"
     ]
    }
   ],
   "source": [
    "import tensorflow as tf\n",
    "from tensorflow.keras import layers\n",
    "\n",
    "model = tf.keras.models.Sequential([\n",
    "\n",
    "    layers.Input( shape = train_x.shape[1:] ),\n",
    "\n",
    "    layers.Dense(64, activation='relu'),\n",
    "    layers.Dense(32, activation='relu'),\n",
    "    layers.Dense(1, activation='sigmoid')\n",
    "\n",
    "])\n",
    "\n",
    "model.compile(\n",
    "    loss = 'binary_crossentropy',\n",
    "    optimizer = 'adam',\n",
    "    metrics = ['accuracy']\n",
    ")\n",
    "\n",
    "model.summary()"
   ]
  },
  {
   "cell_type": "code",
   "execution_count": 74,
   "metadata": {},
   "outputs": [
    {
     "name": "stdout",
     "output_type": "stream",
     "text": [
      "Epoch 1/60\n",
      "13/13 [==============================] - 0s 40ms/step - loss: 0.1843 - accuracy: 0.9375 - val_loss: 0.1025 - val_accuracy: 0.9667\n",
      "Epoch 2/60\n",
      "13/13 [==============================] - 0s 10ms/step - loss: 0.1737 - accuracy: 0.9325 - val_loss: 0.1100 - val_accuracy: 0.9667\n",
      "Epoch 3/60\n",
      "13/13 [==============================] - 0s 10ms/step - loss: 0.1725 - accuracy: 0.9275 - val_loss: 0.1125 - val_accuracy: 0.9667\n",
      "Epoch 4/60\n",
      "13/13 [==============================] - 0s 9ms/step - loss: 0.1710 - accuracy: 0.9325 - val_loss: 0.1059 - val_accuracy: 0.9667\n",
      "Epoch 5/60\n",
      "13/13 [==============================] - 0s 9ms/step - loss: 0.1700 - accuracy: 0.9275 - val_loss: 0.1034 - val_accuracy: 0.9667\n",
      "Epoch 6/60\n",
      "13/13 [==============================] - 0s 10ms/step - loss: 0.1718 - accuracy: 0.9275 - val_loss: 0.1131 - val_accuracy: 0.9667\n",
      "Epoch 7/60\n",
      "13/13 [==============================] - 0s 11ms/step - loss: 0.1722 - accuracy: 0.9300 - val_loss: 0.1068 - val_accuracy: 0.9667\n",
      "Epoch 8/60\n",
      "13/13 [==============================] - 0s 8ms/step - loss: 0.1714 - accuracy: 0.9375 - val_loss: 0.1257 - val_accuracy: 0.9750\n",
      "Epoch 9/60\n",
      "13/13 [==============================] - 0s 7ms/step - loss: 0.1667 - accuracy: 0.9300 - val_loss: 0.1048 - val_accuracy: 0.9667\n",
      "Epoch 10/60\n",
      "13/13 [==============================] - 0s 7ms/step - loss: 0.1734 - accuracy: 0.9325 - val_loss: 0.1038 - val_accuracy: 0.9583\n",
      "Epoch 11/60\n",
      "13/13 [==============================] - 0s 7ms/step - loss: 0.1675 - accuracy: 0.9350 - val_loss: 0.1071 - val_accuracy: 0.9667\n",
      "Epoch 12/60\n",
      "13/13 [==============================] - 0s 7ms/step - loss: 0.1752 - accuracy: 0.9375 - val_loss: 0.1054 - val_accuracy: 0.9750\n",
      "Epoch 13/60\n",
      "13/13 [==============================] - 0s 7ms/step - loss: 0.1970 - accuracy: 0.9175 - val_loss: 0.1340 - val_accuracy: 0.9750\n",
      "Epoch 14/60\n",
      "13/13 [==============================] - 0s 7ms/step - loss: 0.1711 - accuracy: 0.9350 - val_loss: 0.1391 - val_accuracy: 0.9583\n",
      "Epoch 15/60\n",
      "13/13 [==============================] - 0s 7ms/step - loss: 0.1825 - accuracy: 0.9275 - val_loss: 0.1187 - val_accuracy: 0.9667\n",
      "Epoch 16/60\n",
      "13/13 [==============================] - 0s 8ms/step - loss: 0.1850 - accuracy: 0.9250 - val_loss: 0.1649 - val_accuracy: 0.9083\n",
      "Epoch 17/60\n",
      "13/13 [==============================] - 0s 6ms/step - loss: 0.1867 - accuracy: 0.9075 - val_loss: 0.1029 - val_accuracy: 0.9667\n",
      "Epoch 18/60\n",
      "13/13 [==============================] - 0s 6ms/step - loss: 0.1706 - accuracy: 0.9350 - val_loss: 0.1037 - val_accuracy: 0.9667\n",
      "Epoch 19/60\n",
      "13/13 [==============================] - 0s 6ms/step - loss: 0.1662 - accuracy: 0.9275 - val_loss: 0.1081 - val_accuracy: 0.9667\n",
      "Epoch 20/60\n",
      "13/13 [==============================] - 0s 6ms/step - loss: 0.1671 - accuracy: 0.9375 - val_loss: 0.1053 - val_accuracy: 0.9667\n",
      "Epoch 21/60\n",
      "13/13 [==============================] - 0s 6ms/step - loss: 0.1644 - accuracy: 0.9375 - val_loss: 0.1033 - val_accuracy: 0.9667\n",
      "Epoch 22/60\n",
      "13/13 [==============================] - 0s 6ms/step - loss: 0.1667 - accuracy: 0.9325 - val_loss: 0.1128 - val_accuracy: 0.9667\n",
      "Epoch 23/60\n",
      "13/13 [==============================] - 0s 6ms/step - loss: 0.1643 - accuracy: 0.9300 - val_loss: 0.1086 - val_accuracy: 0.9667\n",
      "Epoch 24/60\n",
      "13/13 [==============================] - 0s 6ms/step - loss: 0.1673 - accuracy: 0.9325 - val_loss: 0.1070 - val_accuracy: 0.9667\n",
      "Epoch 25/60\n",
      "13/13 [==============================] - 0s 6ms/step - loss: 0.1633 - accuracy: 0.9350 - val_loss: 0.1153 - val_accuracy: 0.9667\n",
      "Epoch 26/60\n",
      "13/13 [==============================] - 0s 6ms/step - loss: 0.1621 - accuracy: 0.9425 - val_loss: 0.1093 - val_accuracy: 0.9667\n",
      "Epoch 27/60\n",
      "13/13 [==============================] - 0s 6ms/step - loss: 0.1793 - accuracy: 0.9350 - val_loss: 0.1223 - val_accuracy: 0.9667\n",
      "Epoch 28/60\n",
      "13/13 [==============================] - 0s 6ms/step - loss: 0.1603 - accuracy: 0.9350 - val_loss: 0.1072 - val_accuracy: 0.9667\n",
      "Epoch 29/60\n",
      "13/13 [==============================] - 0s 6ms/step - loss: 0.1629 - accuracy: 0.9375 - val_loss: 0.1028 - val_accuracy: 0.9667\n",
      "Epoch 30/60\n",
      "13/13 [==============================] - 0s 6ms/step - loss: 0.1762 - accuracy: 0.9350 - val_loss: 0.1088 - val_accuracy: 0.9667\n",
      "Epoch 31/60\n",
      "13/13 [==============================] - 0s 6ms/step - loss: 0.1751 - accuracy: 0.9275 - val_loss: 0.1613 - val_accuracy: 0.9333\n",
      "Epoch 32/60\n",
      "13/13 [==============================] - 0s 6ms/step - loss: 0.1884 - accuracy: 0.9225 - val_loss: 0.1861 - val_accuracy: 0.8917\n",
      "Epoch 33/60\n",
      "13/13 [==============================] - 0s 9ms/step - loss: 0.1889 - accuracy: 0.9225 - val_loss: 0.1018 - val_accuracy: 0.9667\n",
      "Epoch 34/60\n",
      "13/13 [==============================] - 0s 7ms/step - loss: 0.1650 - accuracy: 0.9425 - val_loss: 0.1017 - val_accuracy: 0.9583\n",
      "Epoch 35/60\n",
      "13/13 [==============================] - 0s 6ms/step - loss: 0.1748 - accuracy: 0.9325 - val_loss: 0.1029 - val_accuracy: 0.9583\n",
      "Epoch 36/60\n",
      "13/13 [==============================] - 0s 6ms/step - loss: 0.1721 - accuracy: 0.9300 - val_loss: 0.1110 - val_accuracy: 0.9667\n",
      "Epoch 37/60\n",
      "13/13 [==============================] - 0s 6ms/step - loss: 0.1580 - accuracy: 0.9325 - val_loss: 0.1733 - val_accuracy: 0.9167\n",
      "Epoch 38/60\n",
      "13/13 [==============================] - 0s 6ms/step - loss: 0.1866 - accuracy: 0.9200 - val_loss: 0.1030 - val_accuracy: 0.9667\n",
      "Epoch 39/60\n",
      "13/13 [==============================] - 0s 6ms/step - loss: 0.1615 - accuracy: 0.9375 - val_loss: 0.1046 - val_accuracy: 0.9667\n",
      "Epoch 40/60\n",
      "13/13 [==============================] - 0s 6ms/step - loss: 0.1867 - accuracy: 0.9225 - val_loss: 0.1201 - val_accuracy: 0.9667\n",
      "Epoch 41/60\n",
      "13/13 [==============================] - 0s 6ms/step - loss: 0.1740 - accuracy: 0.9375 - val_loss: 0.1968 - val_accuracy: 0.8917\n",
      "Epoch 42/60\n",
      "13/13 [==============================] - 0s 6ms/step - loss: 0.1994 - accuracy: 0.9075 - val_loss: 0.1340 - val_accuracy: 0.9667\n",
      "Epoch 43/60\n",
      "13/13 [==============================] - 0s 6ms/step - loss: 0.1972 - accuracy: 0.9125 - val_loss: 0.1008 - val_accuracy: 0.9583\n",
      "Epoch 44/60\n",
      "13/13 [==============================] - 0s 6ms/step - loss: 0.1789 - accuracy: 0.9275 - val_loss: 0.1030 - val_accuracy: 0.9583\n",
      "Epoch 45/60\n",
      "13/13 [==============================] - 0s 6ms/step - loss: 0.1594 - accuracy: 0.9400 - val_loss: 0.1482 - val_accuracy: 0.9250\n",
      "Epoch 46/60\n",
      "13/13 [==============================] - 0s 6ms/step - loss: 0.1820 - accuracy: 0.9250 - val_loss: 0.1264 - val_accuracy: 0.9667\n",
      "Epoch 47/60\n",
      "13/13 [==============================] - 0s 6ms/step - loss: 0.1697 - accuracy: 0.9300 - val_loss: 0.1348 - val_accuracy: 0.9417\n",
      "Epoch 48/60\n",
      "13/13 [==============================] - 0s 6ms/step - loss: 0.1632 - accuracy: 0.9275 - val_loss: 0.1017 - val_accuracy: 0.9583\n",
      "Epoch 49/60\n",
      "13/13 [==============================] - 0s 6ms/step - loss: 0.1581 - accuracy: 0.9350 - val_loss: 0.1072 - val_accuracy: 0.9667\n",
      "Epoch 50/60\n",
      "13/13 [==============================] - 0s 6ms/step - loss: 0.1625 - accuracy: 0.9400 - val_loss: 0.1792 - val_accuracy: 0.9000\n",
      "Epoch 51/60\n",
      "13/13 [==============================] - 0s 6ms/step - loss: 0.1906 - accuracy: 0.9125 - val_loss: 0.1025 - val_accuracy: 0.9667\n",
      "Epoch 52/60\n",
      "13/13 [==============================] - 0s 6ms/step - loss: 0.1652 - accuracy: 0.9375 - val_loss: 0.1007 - val_accuracy: 0.9583\n",
      "Epoch 53/60\n",
      "13/13 [==============================] - 0s 6ms/step - loss: 0.1650 - accuracy: 0.9350 - val_loss: 0.0979 - val_accuracy: 0.9667\n",
      "Epoch 54/60\n",
      "13/13 [==============================] - 0s 7ms/step - loss: 0.1595 - accuracy: 0.9350 - val_loss: 0.1013 - val_accuracy: 0.9667\n",
      "Epoch 55/60\n",
      "13/13 [==============================] - 0s 6ms/step - loss: 0.1565 - accuracy: 0.9350 - val_loss: 0.0986 - val_accuracy: 0.9667\n",
      "Epoch 56/60\n",
      "13/13 [==============================] - 0s 6ms/step - loss: 0.1537 - accuracy: 0.9375 - val_loss: 0.1042 - val_accuracy: 0.9667\n",
      "Epoch 57/60\n",
      "13/13 [==============================] - 0s 6ms/step - loss: 0.1513 - accuracy: 0.9375 - val_loss: 0.0976 - val_accuracy: 0.9583\n",
      "Epoch 58/60\n",
      "13/13 [==============================] - 0s 6ms/step - loss: 0.1698 - accuracy: 0.9275 - val_loss: 0.1047 - val_accuracy: 0.9667\n",
      "Epoch 59/60\n",
      "13/13 [==============================] - 0s 6ms/step - loss: 0.1537 - accuracy: 0.9375 - val_loss: 0.1107 - val_accuracy: 0.9667\n",
      "Epoch 60/60\n",
      "13/13 [==============================] - 0s 6ms/step - loss: 0.1514 - accuracy: 0.9375 - val_loss: 0.1024 - val_accuracy: 0.9667\n"
     ]
    },
    {
     "data": {
      "text/plain": [
       "<keras.callbacks.History at 0x160c4f0f8b0>"
      ]
     },
     "execution_count": 74,
     "metadata": {},
     "output_type": "execute_result"
    }
   ],
   "source": [
    "model.fit(\n",
    "    train_x[:400], train_y[:400],\n",
    "    epochs = 60,\n",
    "    validation_data = (train_x[400:], train_y[400:])\n",
    ")"
   ]
  }
 ],
 "metadata": {
  "interpreter": {
   "hash": "cf6ab032c8d0f1ddf2ea4dd4e609e6e6dfd5e53c8a42a3a69958aaabf5715049"
  },
  "kernelspec": {
   "display_name": "Python 3.9.7 64-bit",
   "language": "python",
   "name": "python3"
  },
  "language_info": {
   "codemirror_mode": {
    "name": "ipython",
    "version": 3
   },
   "file_extension": ".py",
   "mimetype": "text/x-python",
   "name": "python",
   "nbconvert_exporter": "python",
   "pygments_lexer": "ipython3",
   "version": "3.9.7"
  },
  "orig_nbformat": 4
 },
 "nbformat": 4,
 "nbformat_minor": 2
}
