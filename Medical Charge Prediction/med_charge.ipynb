{
 "cells": [
  {
   "cell_type": "code",
   "execution_count": 147,
   "metadata": {},
   "outputs": [
    {
     "name": "stdout",
     "output_type": "stream",
     "text": [
      "(3630, 7)\n",
      "         age     sex        bmi smoker     region  children       charges\n",
      "0  21.000000    male  25.745000     no  northeast         2   3279.868550\n",
      "1  36.976978  female  25.744165    yes  southeast         3  21454.494239\n",
      "2  18.000000    male  30.030000     no  southeast         1   1720.353700\n",
      "3  37.000000    male  30.676891     no  northeast         3   6801.437542\n",
      "4  58.000000    male  32.010000     no  southeast         1  11946.625900\n"
     ]
    }
   ],
   "source": [
    "import pandas as pd\n",
    "\n",
    "df = pd.read_csv('Train_Data.csv')\n",
    "print(df.shape)  # 3630 rows, 7 columns\n",
    "print(df.head())"
   ]
  },
  {
   "cell_type": "code",
   "execution_count": 148,
   "metadata": {},
   "outputs": [],
   "source": [
    "age = df['age']\n",
    "raw_sex = df['sex']         # categorical\n",
    "bmi = df['bmi']\n",
    "raw_smoker = df['smoker']   # categorical\n",
    "raw_region = df['region']   # categorical\n",
    "children = df['children']"
   ]
  },
  {
   "cell_type": "code",
   "execution_count": 149,
   "metadata": {},
   "outputs": [
    {
     "name": "stdout",
     "output_type": "stream",
     "text": [
      "sex --> ['male', 'female']\n",
      "smoker --> ['yes', 'no']\n",
      "region --> ['southwest', 'northeast', 'southeast', 'northwest']\n"
     ]
    }
   ],
   "source": [
    "# printing unique categorical values\n",
    "print(f\"sex --> {list(set(raw_sex))}\")\n",
    "print(f\"smoker --> {list(set(raw_smoker))}\")\n",
    "print(f\"region --> {list(set(raw_region))}\")"
   ]
  },
  {
   "cell_type": "code",
   "execution_count": 150,
   "metadata": {},
   "outputs": [
    {
     "name": "stdout",
     "output_type": "stream",
     "text": [
      "3630\n",
      "[[1, 0], [0, 1], [1, 0], [1, 0], [1, 0], [1, 0], [1, 0], [0, 1], [1, 0], [0, 1]]\n",
      "[[0, 1], [1, 0], [0, 1], [0, 1], [0, 1], [0, 1], [0, 1], [0, 1], [0, 1], [0, 1]]\n",
      "[[0, 1, 0, 0], [0, 0, 1, 0], [0, 0, 1, 0], [0, 1, 0, 0], [0, 0, 1, 0]]\n"
     ]
    }
   ],
   "source": [
    "# feature engineering on categorical values\n",
    "proc_sex = []  # processed age\n",
    "proc_smoker = []\n",
    "proc_region = []\n",
    "\n",
    "for i in range(len(age)):\n",
    "\n",
    "    bag_sex = [0] * len(list(set(raw_sex)))\n",
    "    if raw_sex[i] ==  'male': bag_sex[0] = 1\n",
    "    elif raw_sex[i] == 'female': bag_sex[1] = 1\n",
    "    proc_sex.append(bag_sex)\n",
    "\n",
    "    bag_smoker = [0] * len(list(set(raw_smoker)))\n",
    "    if raw_smoker[i] == 'yes': bag_smoker[0] = 1\n",
    "    elif raw_smoker[i] == 'no': bag_smoker[1] = 1\n",
    "    proc_smoker.append(bag_smoker)\n",
    "\n",
    "    bag_region = [0] * len(list(set(raw_region)))\n",
    "    if raw_region[i] == 'southwest': bag_region[0] = 1\n",
    "    elif raw_region[i] == 'northeast': bag_region[1] = 1\n",
    "    elif raw_region[i] == 'southeast': bag_region[2] = 1\n",
    "    elif raw_region[i] == 'northwest': bag_region[3] = 1\n",
    "    proc_region.append(bag_region)\n",
    "\n",
    "print(len(proc_sex))\n",
    "print(proc_sex[:10])\n",
    "print(proc_smoker[:10])\n",
    "print(proc_region[:5])"
   ]
  },
  {
   "cell_type": "code",
   "execution_count": 151,
   "metadata": {},
   "outputs": [],
   "source": [
    "# creating training dataset\n",
    "train_x = []\n",
    "\n",
    "for i in range(len(age)):\n",
    "    temp = [\n",
    "        age[i], proc_sex[i][0], proc_sex[i][1], bmi[i], children[i],\n",
    "        proc_smoker[i][0], proc_smoker[i][1],\n",
    "        proc_region[i][0], proc_region[i][1], proc_region[i][2], proc_region[i][3]\n",
    "    ]\n",
    "    train_x.append(temp)"
   ]
  },
  {
   "cell_type": "code",
   "execution_count": 152,
   "metadata": {},
   "outputs": [
    {
     "name": "stdout",
     "output_type": "stream",
     "text": [
      "(3630, 11) (3630,)\n",
      "[[21.          1.          0.         25.745       2.          0.\n",
      "   1.          0.          1.          0.          0.        ]\n",
      " [36.976978    0.          1.         25.74416485  3.          1.\n",
      "   0.          0.          0.          1.          0.        ]]\n",
      "[ 3279.86855    21454.49423864]\n"
     ]
    }
   ],
   "source": [
    "import numpy as np\n",
    "\n",
    "train_x = np.array(train_x)\n",
    "\n",
    "train_y = df['charges']\n",
    "train_y = np.array(train_y)\n",
    "\n",
    "print(train_x.shape, train_y.shape)\n",
    "print(train_x[:2])\n",
    "print(train_y[:2])"
   ]
  },
  {
   "cell_type": "code",
   "execution_count": 153,
   "metadata": {},
   "outputs": [],
   "source": [
    "from tensorflow.keras.models import Sequential\n",
    "from tensorflow.keras import layers\n",
    "\n",
    "model = Sequential([\n",
    "    layers.Dense(64, input_shape=[11], activation='relu'),\n",
    "    # layers.Dropout(0.3),\n",
    "\n",
    "    layers.Dense(32, activation='relu'),\n",
    "    # layers.Dropout(0.3),\n",
    "\n",
    "    layers.Dense(32, activation='relu'),\n",
    "    \n",
    "    layers.Dense(1),\n",
    "])\n",
    "\n",
    "model.compile(\n",
    "    loss='mae',\n",
    "    optimizer='adam'\n",
    ")"
   ]
  },
  {
   "cell_type": "code",
   "execution_count": 154,
   "metadata": {},
   "outputs": [],
   "source": [
    "from tensorflow.keras.callbacks import EarlyStopping\n",
    "\n",
    "early_stopping = EarlyStopping(\n",
    "    monitor='val_loss',\n",
    "    min_delta=30,\n",
    "    patience=20,\n",
    "    restore_best_weights=True,\n",
    ")"
   ]
  },
  {
   "cell_type": "code",
   "execution_count": 155,
   "metadata": {},
   "outputs": [
    {
     "name": "stdout",
     "output_type": "stream",
     "text": [
      "114/114 [==============================] - 0s 2ms/step - loss: 2209.3831\n",
      "loss : 2209.383056640625\n"
     ]
    }
   ],
   "source": [
    "history = model.fit(\n",
    "    train_x, train_y,\n",
    "    validation_split=0.1,\n",
    "    epochs=300,\n",
    "    callbacks=[early_stopping],\n",
    "    verbose=0\n",
    ")\n",
    "\n",
    "print(\"loss :\", model.evaluate(train_x, train_y))"
   ]
  },
  {
   "cell_type": "code",
   "execution_count": 156,
   "metadata": {},
   "outputs": [
    {
     "data": {
      "image/png": "[encoded data removed]",
      "text/plain": [
       "<Figure size 432x288 with 1 Axes>"
      ]
     },
     "metadata": {
      "needs_background": "light"
     },
     "output_type": "display_data"
    }
   ],
   "source": [
    "import matplotlib.pyplot as plt\n",
    "\n",
    "plt.plot( history.history['loss'] )\n",
    "plt.plot( history.history['val_loss'] )\n",
    "plt.show()"
   ]
  },
  {
   "cell_type": "code",
   "execution_count": 157,
   "metadata": {},
   "outputs": [
    {
     "data": {
      "image/png": "[encoded data removed]",
      "text/plain": [
       "<Figure size 432x288 with 1 Axes>"
      ]
     },
     "metadata": {
      "needs_background": "light"
     },
     "output_type": "display_data"
    }
   ],
   "source": [
    "# checking how good the model fits on training dataset\n",
    "\n",
    "train_predictions = model.predict(train_x)\n",
    "\n",
    "plt.plot(train_predictions[:30])\n",
    "plt.plot(train_y[:30])\n",
    "plt.show()"
   ]
  },
  {
   "cell_type": "code",
   "execution_count": 158,
   "metadata": {},
   "outputs": [
    {
     "name": "stdout",
     "output_type": "stream",
     "text": [
      "3279 predicted --> 3575,\t\tdifference --> 296\n",
      "21454 predicted --> 24093,\t\tdifference --> 2639\n",
      "1720 predicted --> 1619,\t\tdifference --> -101\n",
      "6801 predicted --> 7389,\t\tdifference --> 588\n",
      "11946 predicted --> 12045,\t\tdifference --> 99\n",
      "7742 predicted --> 7716,\t\tdifference --> -26\n",
      "21736 predicted --> 6098,\t\tdifference --> -15638\n",
      "4916 predicted --> 4893,\t\tdifference --> -23\n",
      "5515 predicted --> 5620,\t\tdifference --> 105\n",
      "17009 predicted --> 10131,\t\tdifference --> -6878\n",
      "38433 predicted --> 38664,\t\tdifference --> 231\n",
      "8549 predicted --> 8889,\t\tdifference --> 340\n",
      "16099 predicted --> 8258,\t\tdifference --> -7841\n",
      "7492 predicted --> 7795,\t\tdifference --> 303\n",
      "18091 predicted --> 5466,\t\tdifference --> -12625\n",
      "41501 predicted --> 37875,\t\tdifference --> -3626\n",
      "2661 predicted --> 2673,\t\tdifference --> 12\n",
      "42211 predicted --> 43212,\t\tdifference --> 1001\n",
      "16455 predicted --> 16205,\t\tdifference --> -250\n",
      "4433 predicted --> 4488,\t\tdifference --> 55\n"
     ]
    }
   ],
   "source": [
    "# for i in range(len(train_predictions)):\n",
    "for i in range(20):\n",
    "    print(f\"{int(train_y[i]//1)} predicted --> {int(train_predictions[i][0]//1)},\\t\\tdifference --> { ( int(train_predictions[i][0]//1) - int(train_y[i]//1) ) }\")"
   ]
  },
  {
   "cell_type": "code",
   "execution_count": 159,
   "metadata": {},
   "outputs": [
    {
     "name": "stdout",
     "output_type": "stream",
     "text": [
      "(492, 6)\n",
      "         age     sex        bmi smoker     region  children\n",
      "0  40.000000    male  29.900000     no  southwest         2\n",
      "1  47.000000    male  32.300000     no  southwest         1\n",
      "2  54.000000  female  28.880000     no  northeast         2\n",
      "3  37.000000    male  30.568094     no  northeast         3\n",
      "4  59.130049    male  33.132854    yes  northeast         4\n"
     ]
    }
   ],
   "source": [
    "df = pd.read_csv('Test_Data.csv')\n",
    "\n",
    "print(df.shape)  # 492 rows, 6 columns\n",
    "print(df.head())"
   ]
  },
  {
   "cell_type": "code",
   "execution_count": 160,
   "metadata": {},
   "outputs": [
    {
     "name": "stdout",
     "output_type": "stream",
     "text": [
      "sex --> ['male', 'female']\n",
      "smoker --> ['yes', 'no']\n",
      "region --> ['southwest', 'northeast', 'southeast', 'northwest']\n"
     ]
    }
   ],
   "source": [
    "age = df['age']\n",
    "raw_sex = df['sex']         # categorical\n",
    "bmi = df['bmi']\n",
    "raw_smoker = df['smoker']   # categorical\n",
    "raw_region = df['region']   # categorical\n",
    "children = df['children']\n",
    "\n",
    "# printing unique categorical values\n",
    "print(f\"sex --> {list(set(raw_sex))}\")\n",
    "print(f\"smoker --> {list(set(raw_smoker))}\")\n",
    "print(f\"region --> {list(set(raw_region))}\")"
   ]
  },
  {
   "cell_type": "code",
   "execution_count": 161,
   "metadata": {},
   "outputs": [
    {
     "name": "stdout",
     "output_type": "stream",
     "text": [
      "492\n",
      "[[1, 0], [1, 0], [0, 1], [1, 0], [1, 0], [0, 1], [0, 1], [1, 0], [0, 1], [0, 1]]\n",
      "[[0, 1], [0, 1], [0, 1], [0, 1], [1, 0], [0, 1], [0, 1], [0, 1], [0, 1], [0, 1]]\n",
      "[[1, 0, 0, 0], [1, 0, 0, 0], [0, 1, 0, 0], [0, 1, 0, 0], [0, 1, 0, 0]]\n"
     ]
    }
   ],
   "source": [
    "# feature engineering on categorical values\n",
    "proc_sex = []  # processed age\n",
    "proc_smoker = []\n",
    "proc_region = []\n",
    "\n",
    "for i in range(len(age)):\n",
    "\n",
    "    bag_sex = [0] * len(list(set(raw_sex)))\n",
    "    if raw_sex[i] ==  'male': bag_sex[0] = 1\n",
    "    elif raw_sex[i] == 'female': bag_sex[1] = 1\n",
    "    proc_sex.append(bag_sex)\n",
    "\n",
    "    bag_smoker = [0] * len(list(set(raw_smoker)))\n",
    "    if raw_smoker[i] == 'yes': bag_smoker[0] = 1\n",
    "    elif raw_smoker[i] == 'no': bag_smoker[1] = 1\n",
    "    proc_smoker.append(bag_smoker)\n",
    "\n",
    "    bag_region = [0] * len(list(set(raw_region)))\n",
    "    if raw_region[i] == 'southwest': bag_region[0] = 1\n",
    "    elif raw_region[i] == 'northeast': bag_region[1] = 1\n",
    "    elif raw_region[i] == 'southeast': bag_region[2] = 1\n",
    "    elif raw_region[i] == 'northwest': bag_region[3] = 1\n",
    "    proc_region.append(bag_region)\n",
    "\n",
    "print(len(proc_sex))\n",
    "print(proc_sex[:10])\n",
    "print(proc_smoker[:10])\n",
    "print(proc_region[:5])"
   ]
  },
  {
   "cell_type": "code",
   "execution_count": 162,
   "metadata": {},
   "outputs": [],
   "source": [
    "# creating testing dataset\n",
    "test_x = []\n",
    "\n",
    "for i in range(len(age)):\n",
    "    temp = [\n",
    "        age[i], proc_sex[i][0], proc_sex[i][1], bmi[i], children[i],\n",
    "        proc_smoker[i][0], proc_smoker[i][1],\n",
    "        proc_region[i][0], proc_region[i][1], proc_region[i][2], proc_region[i][3]\n",
    "    ]\n",
    "    test_x.append(temp)"
   ]
  },
  {
   "cell_type": "code",
   "execution_count": 163,
   "metadata": {},
   "outputs": [
    {
     "name": "stdout",
     "output_type": "stream",
     "text": [
      "(492, 11)\n",
      "[[40.   1.   0.  29.9  2.   0.   1.   1.   0.   0.   0. ]\n",
      " [47.   1.   0.  32.3  1.   0.   1.   1.   0.   0.   0. ]]\n"
     ]
    }
   ],
   "source": [
    "import numpy as np\n",
    "\n",
    "test_x = np.array(test_x)\n",
    "\n",
    "print(test_x.shape)\n",
    "print(test_x[:2])"
   ]
  },
  {
   "cell_type": "code",
   "execution_count": 192,
   "metadata": {},
   "outputs": [
    {
     "name": "stdout",
     "output_type": "stream",
     "text": [
      "AGE\tSEX\tBMI\tSMOKER\t REGION\t\t  CHARGES\n",
      "40.0\tmale\t29.0\tno\tsouthwest\tpredicted --> $ 6693\n",
      "47.0\tmale\t32.0\tno\tsouthwest\tpredicted --> $ 8117\n",
      "54.0\tfemale\t28.0\tno\tnortheast\tpredicted --> $ 12011\n",
      "37.0\tmale\t30.0\tno\tnortheast\tpredicted --> $ 7386\n",
      "59.0\tmale\t33.0\tyes\tnortheast\tpredicted --> $ 36045\n",
      "43.0\tfemale\t34.0\tno\tsouthwest\tpredicted --> $ 8523\n",
      "49.0\tfemale\t25.0\tno\tnorthwest\tpredicted --> $ 11438\n",
      "31.0\tmale\t29.0\tno\tnortheast\tpredicted --> $ 8167\n",
      "19.0\tfemale\t31.0\tno\tnorthwest\tpredicted --> $ 2588\n",
      "59.0\tfemale\t29.0\tno\tsoutheast\tpredicted --> $ 14158\n",
      "26.0\tmale\t29.0\tno\tnortheast\tpredicted --> $ 3078\n",
      "32.0\tmale\t27.0\tno\tnorthwest\tpredicted --> $ 4472\n",
      "38.0\tmale\t29.0\tno\tsouthwest\tpredicted --> $ 7966\n",
      "25.0\tmale\t25.0\tno\tsouthwest\tpredicted --> $ 5414\n",
      "25.0\tfemale\t30.0\tno\tsouthwest\tpredicted --> $ 2593\n",
      "37.0\tmale\t19.0\tno\tnorthwest\tpredicted --> $ 6494\n",
      "30.0\tfemale\t19.0\tno\tnorthwest\tpredicted --> $ 5555\n",
      "59.0\tfemale\t32.0\tno\tnortheast\tpredicted --> $ 14482\n",
      "63.0\tfemale\t27.0\tno\tnortheast\tpredicted --> $ 15594\n",
      "44.0\tfemale\t26.0\tno\tnorthwest\tpredicted --> $ 7407\n"
     ]
    }
   ],
   "source": [
    "predictions = model.predict(test_x)\n",
    "\n",
    "print(\"AGE\\tSEX\\tBMI\\tSMOKER\\t REGION\\t\\t  CHARGES\")\n",
    "# for i in range(len(predictions)):\n",
    "for i in range(20):\n",
    "    print(f\"{df['age'][i]//1}\\t{df['sex'][i]}\\t{df['bmi'][i]//1}\\t{df['smoker'][i]}\\t{df['region'][i]}\", end='\\t')\n",
    "    print(f\"predicted --> $ {int(predictions[i][0]//1)}\")"
   ]
  }
 ],
 "metadata": {
  "interpreter": {
   "hash": "cf6ab032c8d0f1ddf2ea4dd4e609e6e6dfd5e53c8a42a3a69958aaabf5715049"
  },
  "kernelspec": {
   "display_name": "Python 3.9.7 64-bit",
   "language": "python",
   "name": "python3"
  },
  "language_info": {
   "codemirror_mode": {
    "name": "ipython",
    "version": 3
   },
   "file_extension": ".py",
   "mimetype": "text/x-python",
   "name": "python",
   "nbconvert_exporter": "python",
   "pygments_lexer": "ipython3",
   "version": "3.9.7"
  },
  "orig_nbformat": 4
 },
 "nbformat": 4,
 "nbformat_minor": 2
}
