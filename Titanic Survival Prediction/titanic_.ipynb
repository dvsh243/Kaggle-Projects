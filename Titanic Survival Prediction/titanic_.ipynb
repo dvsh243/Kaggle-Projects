{
 "cells": [
  {
   "cell_type": "code",
   "execution_count": 137,
   "metadata": {},
   "outputs": [
    {
     "name": "stdout",
     "output_type": "stream",
     "text": [
      "891 total entries\n"
     ]
    },
    {
     "data": {
      "text/html": [
       "<div>\n",
       "<style scoped>\n",
       "    .dataframe tbody tr th:only-of-type {\n",
       "        vertical-align: middle;\n",
       "    }\n",
       "\n",
       "    .dataframe tbody tr th {\n",
       "        vertical-align: top;\n",
       "    }\n",
       "\n",
       "    .dataframe thead th {\n",
       "        text-align: right;\n",
       "    }\n",
       "</style>\n",
       "<table border=\"1\" class=\"dataframe\">\n",
       "  <thead>\n",
       "    <tr style=\"text-align: right;\">\n",
       "      <th></th>\n",
       "      <th>PassengerId</th>\n",
       "      <th>Survived</th>\n",
       "      <th>Pclass</th>\n",
       "      <th>Name</th>\n",
       "      <th>Sex</th>\n",
       "      <th>Age</th>\n",
       "      <th>SibSp</th>\n",
       "      <th>Parch</th>\n",
       "      <th>Ticket</th>\n",
       "      <th>Fare</th>\n",
       "      <th>Cabin</th>\n",
       "      <th>Embarked</th>\n",
       "    </tr>\n",
       "  </thead>\n",
       "  <tbody>\n",
       "    <tr>\n",
       "      <th>0</th>\n",
       "      <td>1</td>\n",
       "      <td>0</td>\n",
       "      <td>3</td>\n",
       "      <td>Braund, Mr. Owen Harris</td>\n",
       "      <td>male</td>\n",
       "      <td>22.0</td>\n",
       "      <td>1</td>\n",
       "      <td>0</td>\n",
       "      <td>A/5 21171</td>\n",
       "      <td>7.2500</td>\n",
       "      <td>NaN</td>\n",
       "      <td>S</td>\n",
       "    </tr>\n",
       "    <tr>\n",
       "      <th>1</th>\n",
       "      <td>2</td>\n",
       "      <td>1</td>\n",
       "      <td>1</td>\n",
       "      <td>Cumings, Mrs. John Bradley (Florence Briggs Th...</td>\n",
       "      <td>female</td>\n",
       "      <td>38.0</td>\n",
       "      <td>1</td>\n",
       "      <td>0</td>\n",
       "      <td>PC 17599</td>\n",
       "      <td>71.2833</td>\n",
       "      <td>C85</td>\n",
       "      <td>C</td>\n",
       "    </tr>\n",
       "    <tr>\n",
       "      <th>2</th>\n",
       "      <td>3</td>\n",
       "      <td>1</td>\n",
       "      <td>3</td>\n",
       "      <td>Heikkinen, Miss. Laina</td>\n",
       "      <td>female</td>\n",
       "      <td>26.0</td>\n",
       "      <td>0</td>\n",
       "      <td>0</td>\n",
       "      <td>STON/O2. 3101282</td>\n",
       "      <td>7.9250</td>\n",
       "      <td>NaN</td>\n",
       "      <td>S</td>\n",
       "    </tr>\n",
       "    <tr>\n",
       "      <th>3</th>\n",
       "      <td>4</td>\n",
       "      <td>1</td>\n",
       "      <td>1</td>\n",
       "      <td>Futrelle, Mrs. Jacques Heath (Lily May Peel)</td>\n",
       "      <td>female</td>\n",
       "      <td>35.0</td>\n",
       "      <td>1</td>\n",
       "      <td>0</td>\n",
       "      <td>113803</td>\n",
       "      <td>53.1000</td>\n",
       "      <td>C123</td>\n",
       "      <td>S</td>\n",
       "    </tr>\n",
       "    <tr>\n",
       "      <th>4</th>\n",
       "      <td>5</td>\n",
       "      <td>0</td>\n",
       "      <td>3</td>\n",
       "      <td>Allen, Mr. William Henry</td>\n",
       "      <td>male</td>\n",
       "      <td>35.0</td>\n",
       "      <td>0</td>\n",
       "      <td>0</td>\n",
       "      <td>373450</td>\n",
       "      <td>8.0500</td>\n",
       "      <td>NaN</td>\n",
       "      <td>S</td>\n",
       "    </tr>\n",
       "  </tbody>\n",
       "</table>\n",
       "</div>"
      ],
      "text/plain": [
       "   PassengerId  Survived  Pclass  \\\n",
       "0            1         0       3   \n",
       "1            2         1       1   \n",
       "2            3         1       3   \n",
       "3            4         1       1   \n",
       "4            5         0       3   \n",
       "\n",
       "                                                Name     Sex   Age  SibSp  \\\n",
       "0                            Braund, Mr. Owen Harris    male  22.0      1   \n",
       "1  Cumings, Mrs. John Bradley (Florence Briggs Th...  female  38.0      1   \n",
       "2                             Heikkinen, Miss. Laina  female  26.0      0   \n",
       "3       Futrelle, Mrs. Jacques Heath (Lily May Peel)  female  35.0      1   \n",
       "4                           Allen, Mr. William Henry    male  35.0      0   \n",
       "\n",
       "   Parch            Ticket     Fare Cabin Embarked  \n",
       "0      0         A/5 21171   7.2500   NaN        S  \n",
       "1      0          PC 17599  71.2833   C85        C  \n",
       "2      0  STON/O2. 3101282   7.9250   NaN        S  \n",
       "3      0            113803  53.1000  C123        S  \n",
       "4      0            373450   8.0500   NaN        S  "
      ]
     },
     "execution_count": 137,
     "metadata": {},
     "output_type": "execute_result"
    }
   ],
   "source": [
    "import pandas as pd\n",
    "train_df = pd.read_csv('train.csv')\n",
    "\n",
    "print(f\"{len(train_df)} total entries\")\n",
    "train_df.head()"
   ]
  },
  {
   "cell_type": "code",
   "execution_count": 257,
   "metadata": {},
   "outputs": [],
   "source": [
    "def imputer(raw_array, debug=False):\n",
    "\n",
    "    def namestr(obj, namespace):\n",
    "        return [name for name in namespace if namespace[name] is obj]\n",
    "\n",
    "    null_count = 0\n",
    "    sum = 0\n",
    "    mean = 0\n",
    "    imputed_array = []\n",
    "\n",
    "    for item in raw_array:\n",
    "        if str(item) == 'nan':\n",
    "            # print(item, end=', ')\n",
    "            null_count = null_count + 1\n",
    "        else: sum = sum + item\n",
    "    \n",
    "    mean = ( sum / len(raw_array) ) // 1\n",
    "\n",
    "    if debug == True:\n",
    "        print(f\"\\nimputing array --> {namestr(raw_array, globals())[0]}\")\n",
    "        print(f\"{null_count} null values\")\n",
    "        print(f\"{len(raw_array) - null_count} numeric values\")\n",
    "        print(f\"{len(raw_array)} total values\")\n",
    "        print(f\"mean = { mean }\")\n",
    "        print(f\"replaced all missing values with mean {mean}\\n\")\n",
    "\n",
    "    for item in raw_array:\n",
    "        if str(item) == 'nan':\n",
    "            item = mean\n",
    "        imputed_array.append(item)\n",
    "        # print(item, end=', ')\n",
    "\n",
    "    return imputed_array"
   ]
  },
  {
   "cell_type": "code",
   "execution_count": 264,
   "metadata": {},
   "outputs": [
    {
     "name": "stdout",
     "output_type": "stream",
     "text": [
      "\n",
      "imputing array --> raw_age\n",
      "177 null values\n",
      "714 numeric values\n",
      "891 total values\n",
      "mean = 23.0\n",
      "replaced all missing values with mean 23.0\n",
      "\n"
     ]
    }
   ],
   "source": [
    "raw_age = list(train_df['Age'])         # missing values\n",
    "imputed_age = imputer(raw_age, debug=True)"
   ]
  },
  {
   "cell_type": "code",
   "execution_count": 340,
   "metadata": {},
   "outputs": [],
   "source": [
    "import tensorflow as tf\n",
    "\n",
    "def categorical(raw_array, debug=False):\n",
    "\n",
    "    def namestr(obj, namespace):\n",
    "        return [name for name in namespace if namespace[name] is obj]\n",
    "\n",
    "    tokenizer = tf.keras.preprocessing.text.Tokenizer( lower=False )\n",
    "    tokenizer.fit_on_texts(raw_array)\n",
    "\n",
    "    seq_array = tokenizer.texts_to_sequences(raw_array)\n",
    "\n",
    "    cat_array = tf.keras.utils.to_categorical(seq_array)\n",
    "    cat_array = cat_array[:, 1:]   # cause the [0] value doesnt have anything in the word index\n",
    "\n",
    "\n",
    "    if debug == True:\n",
    "        print(f\"\\ncategorising array --> {namestr(raw_array, globals())[0]}\")\n",
    "        print(f\"unique values --> {tokenizer.word_index}\")\n",
    "        for i in range(5):\n",
    "            print(f\"{raw_array[i]} --> { cat_array[i] }\")\n",
    "        print()\n",
    "        \n",
    "    return cat_array\n",
    "    "
   ]
  },
  {
   "cell_type": "code",
   "execution_count": 341,
   "metadata": {},
   "outputs": [
    {
     "name": "stdout",
     "output_type": "stream",
     "text": [
      "\n",
      "categorising array --> raw_sex\n",
      "unique values --> {'male': 1, 'female': 2}\n",
      "male --> [1. 0.]\n",
      "female --> [0. 1.]\n",
      "female --> [0. 1.]\n",
      "female --> [0. 1.]\n",
      "male --> [1. 0.]\n",
      "\n"
     ]
    }
   ],
   "source": [
    "raw_sex = list(train_df['Sex'])         # categorical\n",
    "cat_sex = categorical(raw_sex, debug=True)"
   ]
  },
  {
   "cell_type": "code",
   "execution_count": 351,
   "metadata": {},
   "outputs": [],
   "source": [
    "def categorical_with_missing(raw_array, debug=False):\n",
    "\n",
    "    def namestr(obj, namespace):\n",
    "        return [name for name in namespace if namespace[name] is obj]\n",
    "\n",
    "    def max_occurence(array):\n",
    "        most_common = max(array, key = array.count)\n",
    "        missing_values = 0\n",
    "        for i in range(len(array)):\n",
    "            if str( array[i] ) == 'nan':\n",
    "                missing_values = missing_values + 1\n",
    "                array[i] = most_common\n",
    "        return array, missing_values, most_common\n",
    "\n",
    "    array_without_missing, missing_values, most_common = max_occurence(raw_array)\n",
    "\n",
    "    if debug == True:\n",
    "        print(f\"\\nimputing missing string values --> {namestr(raw_array, globals())[0]}\")\n",
    "        print(f\"{missing_values} missing values replaced with most common value --> '{most_common}'\")\n",
    "        print(f\"new unique values --> {list(set(array_without_missing))}\")\n",
    "\n",
    "    cat_array = categorical(array_without_missing, debug=debug)\n",
    "\n",
    "    return cat_array\n"
   ]
  },
  {
   "cell_type": "code",
   "execution_count": 358,
   "metadata": {},
   "outputs": [
    {
     "name": "stdout",
     "output_type": "stream",
     "text": [
      "S --> [1. 0. 0.]\n",
      "C --> [0. 1. 0.]\n",
      "S --> [1. 0. 0.]\n",
      "S --> [1. 0. 0.]\n",
      "S --> [1. 0. 0.]\n",
      "Q --> [0. 0. 1.]\n",
      "S --> [1. 0. 0.]\n",
      "S --> [1. 0. 0.]\n"
     ]
    }
   ],
   "source": [
    "raw_region = list(train_df['Embarked'])     # categorical + missing values\n",
    "cat_region = categorical_with_missing(raw_region, debug=False)\n",
    "\n",
    "for i in range(8):\n",
    "    print(f\"{raw_region[i]} --> {cat_region[i]}\")"
   ]
  },
  {
   "cell_type": "code",
   "execution_count": 361,
   "metadata": {},
   "outputs": [
    {
     "name": "stdout",
     "output_type": "stream",
     "text": [
      "survived --> [0, 1] \n",
      "passenger class --> [1, 2, 3] \n",
      "siblings --> [0, 1, 2, 3, 4, 5, 8] \n",
      "parents & children --> [0, 1, 2, 3, 4, 5, 6] \n",
      "sex --> ['male', 'female'] \n",
      "region --> ['S', 'C', 'Q'] \n"
     ]
    }
   ],
   "source": [
    "# dropped 'PassengerId', 'Name', 'Ticket', 'Cabin'\n",
    "\n",
    "survived = list(train_df['Survived'])\n",
    "\n",
    "p_class = list(train_df['Pclass'])\n",
    "\n",
    "siblings = list(train_df['SibSp'])\n",
    "parents = list(train_df['Parch'])\n",
    "\n",
    "fare = list(train_df['Fare'])\n",
    "\n",
    "print(f\"survived --> {list(set(survived))} \")\n",
    "print(f\"passenger class --> {list(set(p_class))} \")\n",
    "print(f\"siblings --> {list(set(siblings))} \")\n",
    "print(f\"parents & children --> {list(set(parents))} \")\n",
    "print(f\"sex --> {list(set(raw_sex))} \")\n",
    "print(f\"region --> {list(set(raw_region))} \")"
   ]
  },
  {
   "cell_type": "code",
   "execution_count": 374,
   "metadata": {},
   "outputs": [
    {
     "name": "stdout",
     "output_type": "stream",
     "text": [
      "[3, 1.0, 0.0, 22.0, 1, 0, 7.25, 1.0, 0.0, 0.0]\n",
      "[3, 0.0, 1.0, 28.0, 0, 0, 7.8958, 1.0, 0.0, 0.0]\n",
      "[3, 1.0, 0.0, 28.0, 0, 0, 9.5, 1.0, 0.0, 0.0]\n",
      "[3, 0.0, 1.0, 23.0, 0, 0, 7.75, 0.0, 0.0, 1.0]\n",
      "[3, 1.0, 0.0, 39.0, 0, 0, 7.925, 1.0, 0.0, 0.0]\n",
      "[3, 1.0, 0.0, 17.0, 0, 0, 8.6625, 1.0, 0.0, 0.0]\n",
      "[2, 0.0, 1.0, 24.0, 2, 1, 27.0, 1.0, 0.0, 0.0]\n",
      "[1, 0.0, 1.0, 18.0, 1, 0, 227.525, 0.0, 1.0, 0.0]\n",
      "[2, 1.0, 0.0, 34.0, 0, 0, 13.0, 1.0, 0.0, 0.0]\n"
     ]
    }
   ],
   "source": [
    "train_x = []\n",
    "\n",
    "for i in range(len(raw_sex)):\n",
    "    temp = [\n",
    "        p_class[i], cat_sex[i][0], cat_sex[i][1], imputed_age[i],\n",
    "        siblings[i], parents[i], fare[i],\n",
    "        cat_region[i][0], cat_region[i][1], cat_region[i][2]\n",
    "    ]\n",
    "    train_x.append(temp)\n",
    "    if i % 100 == 0: print(temp)  # printing a sample\n",
    "    "
   ]
  },
  {
   "cell_type": "code",
   "execution_count": 392,
   "metadata": {},
   "outputs": [
    {
     "name": "stdout",
     "output_type": "stream",
     "text": [
      "(891, 10)\n",
      "input shape for model = 10\n"
     ]
    }
   ],
   "source": [
    "import numpy as np\n",
    "\n",
    "survived = list(train_df['Survived'])\n",
    "\n",
    "train_y = np.array(survived)\n",
    "train_x = np.array(train_x)\n",
    "\n",
    "print(train_x.shape)\n",
    "print(\"input shape for model =\", train_x.shape[1])"
   ]
  },
  {
   "cell_type": "code",
   "execution_count": 416,
   "metadata": {},
   "outputs": [],
   "source": [
    "from tensorflow.keras import layers\n",
    "from tensorflow.keras.models import Model\n",
    "\n",
    "visible = layers.Input( shape=[ train_x.shape[1] ] )\n",
    "x = layers.Dense(64, activation='relu')(visible)\n",
    "x = layers.Dropout(0.3)(x)\n",
    "x = layers.Dense(64, activation='relu')(x)\n",
    "x = layers.Dropout(0.3)(x)\n",
    "output = layers.Dense(1, activation='sigmoid')(x)\n",
    "\n",
    "model = Model(inputs=visible, outputs=output)\n",
    "\n",
    "model.compile(\n",
    "    loss='binary_crossentropy',\n",
    "    optimizer='adam',\n",
    "    metrics=['accuracy']\n",
    ")"
   ]
  },
  {
   "cell_type": "code",
   "execution_count": 421,
   "metadata": {},
   "outputs": [],
   "source": [
    "from tensorflow.keras.callbacks import EarlyStopping\n",
    "\n",
    "early_stopping = EarlyStopping(\n",
    "    monitor='val_loss',\n",
    "    min_delta=0.0001,\n",
    "    patience=40,\n",
    "    restore_best_weights=False,\n",
    ")"
   ]
  },
  {
   "cell_type": "code",
   "execution_count": 469,
   "metadata": {},
   "outputs": [
    {
     "name": "stdout",
     "output_type": "stream",
     "text": [
      "Epoch 1/250\n",
      "26/26 - 0s - loss: 0.3230 - accuracy: 0.8677 - val_loss: 0.3658 - val_accuracy: 0.8333 - 153ms/epoch - 6ms/step\n",
      "Epoch 2/250\n",
      "26/26 - 0s - loss: 0.3110 - accuracy: 0.8677 - val_loss: 0.3718 - val_accuracy: 0.8333 - 98ms/epoch - 4ms/step\n",
      "Epoch 3/250\n",
      "26/26 - 0s - loss: 0.2972 - accuracy: 0.8777 - val_loss: 0.3725 - val_accuracy: 0.8333 - 129ms/epoch - 5ms/step\n",
      "Epoch 4/250\n",
      "26/26 - 0s - loss: 0.2970 - accuracy: 0.8664 - val_loss: 0.3713 - val_accuracy: 0.8222 - 133ms/epoch - 5ms/step\n",
      "Epoch 5/250\n",
      "26/26 - 0s - loss: 0.2957 - accuracy: 0.8739 - val_loss: 0.3630 - val_accuracy: 0.8333 - 146ms/epoch - 6ms/step\n",
      "Epoch 6/250\n",
      "26/26 - 0s - loss: 0.2924 - accuracy: 0.8764 - val_loss: 0.3684 - val_accuracy: 0.8333 - 169ms/epoch - 6ms/step\n",
      "Epoch 7/250\n",
      "26/26 - 0s - loss: 0.3012 - accuracy: 0.8727 - val_loss: 0.3753 - val_accuracy: 0.8333 - 117ms/epoch - 4ms/step\n",
      "Epoch 8/250\n",
      "26/26 - 0s - loss: 0.2959 - accuracy: 0.8689 - val_loss: 0.3715 - val_accuracy: 0.8444 - 157ms/epoch - 6ms/step\n",
      "Epoch 9/250\n",
      "26/26 - 0s - loss: 0.3016 - accuracy: 0.8689 - val_loss: 0.3795 - val_accuracy: 0.8333 - 293ms/epoch - 11ms/step\n",
      "Epoch 10/250\n",
      "26/26 - 0s - loss: 0.3004 - accuracy: 0.8689 - val_loss: 0.3821 - val_accuracy: 0.8333 - 170ms/epoch - 7ms/step\n",
      "Epoch 11/250\n",
      "26/26 - 0s - loss: 0.3168 - accuracy: 0.8602 - val_loss: 0.4155 - val_accuracy: 0.8111 - 208ms/epoch - 8ms/step\n",
      "Epoch 12/250\n",
      "26/26 - 0s - loss: 0.3534 - accuracy: 0.8489 - val_loss: 0.3782 - val_accuracy: 0.8444 - 169ms/epoch - 6ms/step\n",
      "Epoch 13/250\n",
      "26/26 - 0s - loss: 0.3044 - accuracy: 0.8702 - val_loss: 0.3744 - val_accuracy: 0.8667 - 131ms/epoch - 5ms/step\n",
      "Epoch 14/250\n",
      "26/26 - 0s - loss: 0.3025 - accuracy: 0.8727 - val_loss: 0.3717 - val_accuracy: 0.8333 - 147ms/epoch - 6ms/step\n",
      "Epoch 15/250\n",
      "26/26 - 0s - loss: 0.2948 - accuracy: 0.8739 - val_loss: 0.3819 - val_accuracy: 0.8444 - 150ms/epoch - 6ms/step\n",
      "Epoch 16/250\n",
      "26/26 - 0s - loss: 0.3087 - accuracy: 0.8589 - val_loss: 0.3727 - val_accuracy: 0.8333 - 123ms/epoch - 5ms/step\n",
      "Epoch 17/250\n",
      "26/26 - 0s - loss: 0.3055 - accuracy: 0.8677 - val_loss: 0.3737 - val_accuracy: 0.8444 - 132ms/epoch - 5ms/step\n",
      "Epoch 18/250\n",
      "26/26 - 0s - loss: 0.2908 - accuracy: 0.8777 - val_loss: 0.3698 - val_accuracy: 0.8333 - 117ms/epoch - 4ms/step\n",
      "Epoch 19/250\n",
      "26/26 - 0s - loss: 0.3111 - accuracy: 0.8752 - val_loss: 0.3848 - val_accuracy: 0.8222 - 133ms/epoch - 5ms/step\n",
      "Epoch 20/250\n",
      "26/26 - 0s - loss: 0.3256 - accuracy: 0.8577 - val_loss: 0.3712 - val_accuracy: 0.8556 - 120ms/epoch - 5ms/step\n",
      "Epoch 21/250\n",
      "26/26 - 0s - loss: 0.3689 - accuracy: 0.8452 - val_loss: 0.3824 - val_accuracy: 0.8444 - 108ms/epoch - 4ms/step\n",
      "Epoch 22/250\n",
      "26/26 - 0s - loss: 0.3314 - accuracy: 0.8689 - val_loss: 0.3651 - val_accuracy: 0.8333 - 112ms/epoch - 4ms/step\n",
      "Epoch 23/250\n",
      "26/26 - 0s - loss: 0.3163 - accuracy: 0.8627 - val_loss: 0.3606 - val_accuracy: 0.8333 - 107ms/epoch - 4ms/step\n",
      "Epoch 24/250\n",
      "26/26 - 0s - loss: 0.3008 - accuracy: 0.8789 - val_loss: 0.3603 - val_accuracy: 0.8333 - 103ms/epoch - 4ms/step\n",
      "Epoch 25/250\n",
      "26/26 - 0s - loss: 0.3243 - accuracy: 0.8564 - val_loss: 0.3433 - val_accuracy: 0.8556 - 115ms/epoch - 4ms/step\n",
      "Epoch 26/250\n",
      "26/26 - 0s - loss: 0.2973 - accuracy: 0.8664 - val_loss: 0.3614 - val_accuracy: 0.8556 - 126ms/epoch - 5ms/step\n",
      "Epoch 27/250\n",
      "26/26 - 0s - loss: 0.4008 - accuracy: 0.8414 - val_loss: 0.3697 - val_accuracy: 0.8444 - 113ms/epoch - 4ms/step\n",
      "Epoch 28/250\n",
      "26/26 - 0s - loss: 0.3204 - accuracy: 0.8714 - val_loss: 0.3669 - val_accuracy: 0.8333 - 127ms/epoch - 5ms/step\n",
      "Epoch 29/250\n",
      "26/26 - 0s - loss: 0.3269 - accuracy: 0.8627 - val_loss: 0.3622 - val_accuracy: 0.8333 - 116ms/epoch - 4ms/step\n",
      "Epoch 30/250\n",
      "26/26 - 0s - loss: 0.2999 - accuracy: 0.8714 - val_loss: 0.3852 - val_accuracy: 0.8333 - 103ms/epoch - 4ms/step\n",
      "Epoch 31/250\n",
      "26/26 - 0s - loss: 0.3139 - accuracy: 0.8702 - val_loss: 0.3750 - val_accuracy: 0.8333 - 112ms/epoch - 4ms/step\n",
      "Epoch 32/250\n",
      "26/26 - 0s - loss: 0.2971 - accuracy: 0.8764 - val_loss: 0.3718 - val_accuracy: 0.8444 - 127ms/epoch - 5ms/step\n",
      "Epoch 33/250\n",
      "26/26 - 0s - loss: 0.2880 - accuracy: 0.8814 - val_loss: 0.3772 - val_accuracy: 0.8222 - 120ms/epoch - 5ms/step\n",
      "Epoch 34/250\n",
      "26/26 - 0s - loss: 0.3112 - accuracy: 0.8714 - val_loss: 0.3780 - val_accuracy: 0.8222 - 119ms/epoch - 5ms/step\n",
      "Epoch 35/250\n",
      "26/26 - 0s - loss: 0.2928 - accuracy: 0.8814 - val_loss: 0.3778 - val_accuracy: 0.8333 - 102ms/epoch - 4ms/step\n",
      "Epoch 36/250\n",
      "26/26 - 0s - loss: 0.2962 - accuracy: 0.8714 - val_loss: 0.3695 - val_accuracy: 0.8333 - 110ms/epoch - 4ms/step\n",
      "Epoch 37/250\n",
      "26/26 - 0s - loss: 0.2913 - accuracy: 0.8764 - val_loss: 0.3762 - val_accuracy: 0.8333 - 108ms/epoch - 4ms/step\n",
      "Epoch 38/250\n",
      "26/26 - 0s - loss: 0.2968 - accuracy: 0.8739 - val_loss: 0.3821 - val_accuracy: 0.8333 - 121ms/epoch - 5ms/step\n",
      "Epoch 39/250\n",
      "26/26 - 0s - loss: 0.2917 - accuracy: 0.8764 - val_loss: 0.3934 - val_accuracy: 0.8333 - 114ms/epoch - 4ms/step\n",
      "Epoch 40/250\n",
      "26/26 - 0s - loss: 0.3347 - accuracy: 0.8602 - val_loss: 0.3854 - val_accuracy: 0.8333 - 123ms/epoch - 5ms/step\n",
      "Epoch 41/250\n",
      "26/26 - 0s - loss: 0.2975 - accuracy: 0.8801 - val_loss: 0.3678 - val_accuracy: 0.8333 - 107ms/epoch - 4ms/step\n",
      "Epoch 42/250\n",
      "26/26 - 0s - loss: 0.3208 - accuracy: 0.8752 - val_loss: 0.3660 - val_accuracy: 0.8444 - 102ms/epoch - 4ms/step\n",
      "Epoch 43/250\n",
      "26/26 - 0s - loss: 0.2959 - accuracy: 0.8801 - val_loss: 0.3768 - val_accuracy: 0.8222 - 108ms/epoch - 4ms/step\n",
      "Epoch 44/250\n",
      "26/26 - 0s - loss: 0.2930 - accuracy: 0.8851 - val_loss: 0.3662 - val_accuracy: 0.8333 - 101ms/epoch - 4ms/step\n",
      "Epoch 45/250\n",
      "26/26 - 0s - loss: 0.2864 - accuracy: 0.8826 - val_loss: 0.3756 - val_accuracy: 0.8333 - 106ms/epoch - 4ms/step\n",
      "Epoch 46/250\n",
      "26/26 - 0s - loss: 0.2946 - accuracy: 0.8677 - val_loss: 0.3770 - val_accuracy: 0.8333 - 126ms/epoch - 5ms/step\n",
      "Epoch 47/250\n",
      "26/26 - 0s - loss: 0.2862 - accuracy: 0.8789 - val_loss: 0.3901 - val_accuracy: 0.8222 - 130ms/epoch - 5ms/step\n",
      "Epoch 48/250\n",
      "26/26 - 0s - loss: 0.3394 - accuracy: 0.8589 - val_loss: 0.3858 - val_accuracy: 0.8556 - 121ms/epoch - 5ms/step\n",
      "Epoch 49/250\n",
      "26/26 - 0s - loss: 0.3010 - accuracy: 0.8826 - val_loss: 0.3732 - val_accuracy: 0.8333 - 133ms/epoch - 5ms/step\n",
      "Epoch 50/250\n",
      "26/26 - 0s - loss: 0.2970 - accuracy: 0.8801 - val_loss: 0.3897 - val_accuracy: 0.8556 - 145ms/epoch - 6ms/step\n",
      "Epoch 51/250\n",
      "26/26 - 0s - loss: 0.2961 - accuracy: 0.8764 - val_loss: 0.3843 - val_accuracy: 0.8222 - 125ms/epoch - 5ms/step\n",
      "Epoch 52/250\n",
      "26/26 - 0s - loss: 0.3153 - accuracy: 0.8614 - val_loss: 0.3679 - val_accuracy: 0.8444 - 95ms/epoch - 4ms/step\n",
      "Epoch 53/250\n",
      "26/26 - 0s - loss: 0.3037 - accuracy: 0.8664 - val_loss: 0.3779 - val_accuracy: 0.8222 - 104ms/epoch - 4ms/step\n",
      "Epoch 54/250\n",
      "26/26 - 0s - loss: 0.2998 - accuracy: 0.8777 - val_loss: 0.3713 - val_accuracy: 0.8333 - 111ms/epoch - 4ms/step\n",
      "Epoch 55/250\n",
      "26/26 - 0s - loss: 0.2876 - accuracy: 0.8714 - val_loss: 0.3778 - val_accuracy: 0.8333 - 103ms/epoch - 4ms/step\n",
      "28/28 [==============================] - 0s 2ms/step - loss: 0.2918 - accuracy: 0.8833\n"
     ]
    },
    {
     "data": {
      "text/plain": [
       "[0.29178544878959656, 0.8832772374153137]"
      ]
     },
     "execution_count": 469,
     "metadata": {},
     "output_type": "execute_result"
    }
   ],
   "source": [
    "history = model.fit(\n",
    "    train_x, train_y,\n",
    "    validation_split=0.1,\n",
    "    callbacks=[early_stopping],\n",
    "    epochs=250,\n",
    "    verbose=0\n",
    ")\n",
    "\n",
    "model.evaluate(train_x, train_y)"
   ]
  },
  {
   "cell_type": "code",
   "execution_count": 470,
   "metadata": {},
   "outputs": [
    {
     "data": {
      "image/png": "[encoded data removed]",
      "text/plain": [
       "<Figure size 432x288 with 1 Axes>"
      ]
     },
     "metadata": {
      "needs_background": "light"
     },
     "output_type": "display_data"
    }
   ],
   "source": [
    "import matplotlib.pyplot as plt\n",
    "\n",
    "# plt.plot( history.history['accuracy'] )\n",
    "plt.plot( history.history['loss'] )\n",
    "plt.plot( history.history['val_loss'] )\n",
    "plt.show()"
   ]
  },
  {
   "cell_type": "code",
   "execution_count": 471,
   "metadata": {},
   "outputs": [
    {
     "name": "stdout",
     "output_type": "stream",
     "text": [
      "787 correct predictions out of 891\n",
      "accuracy = 88.32 %\n"
     ]
    }
   ],
   "source": [
    "# predicting on the testing data\n",
    "\n",
    "predictions = model.predict(train_x)\n",
    "\n",
    "correct = 0\n",
    "for i in range(len(predictions)):\n",
    "    # print(f\"{train_y[i]} predicted --> { (predictions[i][0]*100)//1 } %\")\n",
    "\n",
    "    if predictions[i] > 0.5 and train_y[i] == 1:\n",
    "            correct = correct + 1\n",
    "\n",
    "    if predictions[i] < 0.5 and train_y[i] == 0:\n",
    "            correct = correct + 1\n",
    "\n",
    "print(f\"{correct} correct predictions out of {len(predictions)}\")\n",
    "print(f\"accuracy = { str((correct / len(predictions)) * 100)[:5] } %\")"
   ]
  }
 ],
 "metadata": {
  "interpreter": {
   "hash": "cf6ab032c8d0f1ddf2ea4dd4e609e6e6dfd5e53c8a42a3a69958aaabf5715049"
  },
  "kernelspec": {
   "display_name": "Python 3.9.7 64-bit",
   "language": "python",
   "name": "python3"
  },
  "language_info": {
   "codemirror_mode": {
    "name": "ipython",
    "version": 3
   },
   "file_extension": ".py",
   "mimetype": "text/x-python",
   "name": "python",
   "nbconvert_exporter": "python",
   "pygments_lexer": "ipython3",
   "version": "3.9.7"
  },
  "orig_nbformat": 4
 },
 "nbformat": 4,
 "nbformat_minor": 2
}
